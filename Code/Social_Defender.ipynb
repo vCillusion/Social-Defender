{
  "nbformat": 4,
  "nbformat_minor": 0,
  "metadata": {
    "colab": {
      "name": "Social Defender",
      "version": "0.3.2",
      "provenance": [],
      "include_colab_link": true
    },
    "kernelspec": {
      "name": "python3",
      "display_name": "Python 3"
    }
  },
  "cells": [
    {
      "cell_type": "markdown",
      "metadata": {
        "id": "view-in-github",
        "colab_type": "text"
      },
      "source": [
        "<a href=\"https://colab.research.google.com/github/vCillusion/Social-Defender/blob/master/Code/Social_Defender.ipynb\" target=\"_parent\"><img src=\"https://colab.research.google.com/assets/colab-badge.svg\" alt=\"Open In Colab\"/></a>"
      ]
    },
    {
      "cell_type": "markdown",
      "metadata": {
        "id": "0uY8h4oPzd1S",
        "colab_type": "text"
      },
      "source": [
        "# Social Defender\n",
        "Social Defender is an idea to use the machine algorithm to perform sentiment analysis and create a positive outlook for the users, by using customized views and tagging content. "
      ]
    },
    {
      "cell_type": "markdown",
      "metadata": {
        "id": "NueC4aMF1BFi",
        "colab_type": "text"
      },
      "source": [
        "## Hinglish Sentiment Analysis\n",
        "The first target of the application is to learn and perform sentiment analysis model to categorize Hinglish data. "
      ]
    },
    {
      "cell_type": "markdown",
      "metadata": {
        "id": "TS4pd5mB5b_0",
        "colab_type": "text"
      },
      "source": [
        "### Analyzing the Dataset\n",
        "The dataset is loaded using the Pandas library."
      ]
    },
    {
      "cell_type": "code",
      "metadata": {
        "id": "YU19nB17FlFV",
        "colab_type": "code",
        "outputId": "365a6531-4864-4b84-fedb-c7b7da66f9d1",
        "colab": {
          "base_uri": "https://localhost:8080/",
          "height": 1014
        }
      },
      "source": [
        "import pandas as pd\n",
        "import io\n",
        "df = pd.read_csv('https://raw.githubusercontent.com/vCillusion/Social-Defender/master/Data/Emotions/Emotions_Data.csv')\n",
        "print('Basic Information')\n",
        "print(df.info())\n",
        "print(df.shape)\n",
        "print('Head and Tail of data')\n",
        "print(df.head())\n",
        "print(df.tail())\n",
        "# Plot to get a gist of frequency and type of values\n",
        "df['Emotions Value'].plot(kind='hist')"
      ],
      "execution_count": 2,
      "outputs": [
        {
          "output_type": "stream",
          "text": [
            "Basic Information\n",
            "<class 'pandas.core.frame.DataFrame'>\n",
            "RangeIndex: 126 entries, 0 to 125\n",
            "Data columns (total 7 columns):\n",
            "Comments Text     126 non-null object\n",
            "Feelings Text     126 non-null object\n",
            "Emotions Text     126 non-null object\n",
            "Context Text      126 non-null object\n",
            "Feelings Value    126 non-null int64\n",
            "Emotions Value    126 non-null int64\n",
            "Context Value     126 non-null int64\n",
            "dtypes: int64(3), object(4)\n",
            "memory usage: 7.0+ KB\n",
            "None\n",
            "(126, 7)\n",
            "Head and Tail of data\n",
            "                                    Comments Text Feelings Text Emotions Text  \\\n",
            "0                                           🦋🦋🦋❤️      Positive        Loving   \n",
            "1  Pdhane do didi ! 😫 Semester exam chl rhe hai !      Negative       Sarcasm   \n",
            "2                               @dishapatani 🔥🔥🔥👈      Positive    Compliment   \n",
            "3           @dishapatani u are always fabulous ❤️      Positive    Compliment   \n",
            "4           @dishapatani mbd radisson blu delhi..       Neutral   Information   \n",
            "\n",
            "  Context Text  Feelings Value  Emotions Value  Context Value  \n",
            "0    Socialist               3               5              5  \n",
            "1    Socialist               1               8              5  \n",
            "2    Socialist               3               2              5  \n",
            "3    Socialist               3               2              5  \n",
            "4    Socialist               2               3              5  \n",
            "                                         Comments Text Feelings Text  \\\n",
            "121  @BuddhadevMurum1 @ColorsTV Madarchod shilpa ra...      Negative   \n",
            "122  @Shujaatsays Madarchod , bhenchod bsdk bhikhar...      Negative   \n",
            "123  @rssurjewala Abe chup chutye ye to congress bh...      Negative   \n",
            "124  @RavishKumar_ @shuklapinku @rajnathsingh @BSF_...      Negative   \n",
            "125  Bhak Machod Mullo Ke Abbu @bewak_sanki543 @mil...      Negative   \n",
            "\n",
            "    Emotions Text Context Text  Feelings Value  Emotions Value  Context Value  \n",
            "121       Abusive    Socialist               1               1              5  \n",
            "122       Abusive       Racist               1               1              2  \n",
            "123       Abusive    Socialist               1               1              5  \n",
            "124       Abusive    Socialist               1               1              5  \n",
            "125       Abusive       Racist               1               1              2  \n"
          ],
          "name": "stdout"
        },
        {
          "output_type": "execute_result",
          "data": {
            "text/plain": [
              "<matplotlib.axes._subplots.AxesSubplot at 0x7f43f78f1ef0>"
            ]
          },
          "metadata": {
            "tags": []
          },
          "execution_count": 2
        },
        {
          "output_type": "display_data",
          "data": {
            "image/png": "[encoded data removed]",
            "text/plain": [
              "<Figure size 432x288 with 1 Axes>"
            ]
          },
          "metadata": {
            "tags": []
          }
        }
      ]
    },
    {
      "cell_type": "markdown",
      "metadata": {
        "id": "IZzYon1p5mkw",
        "colab_type": "text"
      },
      "source": [
        "### Processing the data\n",
        "We wanted to clean the data for accurate results. We replace the abbreviations using our slang translator and then remove the stop words (most common words to understand the context better)."
      ]
    },
    {
      "cell_type": "code",
      "metadata": {
        "id": "9J01Ed8HyPGw",
        "colab_type": "code",
        "colab": {}
      },
      "source": [
        "# Utility methods to handle files from the github\n",
        "def loadFileFromUrl ( url, filename, override = True ) :\n",
        "  exists = os.path.isfile(filename)\n",
        "  if not exists or override:\n",
        "    # raw=true is important so you download the file rather than the webpage.\n",
        "    !wget $url\n",
        "    # rename the file\n",
        "    !mv $filename\\?raw\\=true $filename\n",
        "  return filename\n",
        "\n",
        "def getFile ( filename ) :\n",
        "  file = open(filename, 'r')\n",
        "  return file\n",
        "\n",
        "def readFile ( filename ) :\n",
        "  return getFile(filename).read()\n",
        "\n",
        "def getFileFromUrl ( url, filename, override = True ) :\n",
        "  return getFile(loadFileFromUrl(url, filename, override ))\n",
        "\n",
        "def readFileFromUrl ( url, filename, override = True ) :\n",
        "  return readFile(loadFileFromUrl(url, filename, override))\n",
        "\n",
        "def readFileFromUrlSplit ( url, filename, override = True ) :\n",
        "  return readFileFromUrl(url, filename, override).splitlines()\n"
      ],
      "execution_count": 0,
      "outputs": []
    },
    {
      "cell_type": "markdown",
      "metadata": {
        "id": "8_bh8QaltgV8",
        "colab_type": "text"
      },
      "source": [
        "#### Design the slang translator\n",
        "The plan is to make the text more readable by expanding the abbreviations by using similar logic mentioned in the [blog post](https://medium.com/nerd-stuff/python-script-to-turn-text-message-abbreviations-into-actual-phrases-d5db6f489222)."
      ]
    },
    {
      "cell_type": "code",
      "metadata": {
        "id": "N4NoH8RbC7u1",
        "colab_type": "code",
        "outputId": "530f0c7f-90ea-43ee-b73f-30613fb55d77",
        "colab": {
          "base_uri": "https://localhost:8080/",
          "height": 2774
        }
      },
      "source": [
        "import os\n",
        "import re\n",
        "def initMap(fileUrl, fileName, delimiter, override):\n",
        "  exists = os.path.isfile(fileName)\n",
        "  inputFile = getFileFromUrl (fileUrl, fileName, override)\n",
        "  resultMap = {}\n",
        "  for line in inputFile:\n",
        "    (key, val) = line.split('=')\n",
        "    resultMap[key.lower()] = val.strip()\n",
        "    # print(resultMap)\n",
        "  resultMap['u'] = 'you'\n",
        "  return resultMap\n",
        "\n",
        "def translator(input):\n",
        "  # Load File path which consists of Abbreviations\n",
        "  fileUrl = 'https://github.com/vCillusion/Social-Defender/blob/master/Data/Abbreviations/slang.txt?raw=true'\n",
        "  fileName = 'slang.txt'\n",
        "  delimiter = '='\n",
        "  abbreviations_slang = initMap(fileUrl, fileName, delimiter, True)\n",
        "  print(abbreviations_slang)\n",
        "\n",
        "  # Loop over words and replace slangs\n",
        "  words = input.split(' ')\n",
        "  for index in range(len(words)):\n",
        "    # Removing Special Characters.\n",
        "    word = re.sub('[^a-zA-Z0-9-_.]','', words[index]).lower()\n",
        "    if word in abbreviations_slang:\n",
        "      words[index] = abbreviations_slang[word]\n",
        "  \n",
        "  # Create output\n",
        "  output = ' '.join(words)\n",
        "  return output\n",
        "  \n",
        "# translator('brb pal')"
      ],
      "execution_count": 14,
      "outputs": [
        {
          "output_type": "stream",
          "text": [
            "Translate slangs and abbreviations into meaningful words\n",
            "--2019-05-04 17:26:14--  https://github.com/vCillusion/Social-Defender/blob/master/Data/Abbreviations/slang.txt?raw=true\n",
            "Resolving github.com (github.com)... 192.30.253.112\n",
            "Connecting to github.com (github.com)|192.30.253.112|:443... connected.\n",
            "HTTP request sent, awaiting response... 302 Found\n",
            "Location: https://github.com/vCillusion/Social-Defender/raw/master/Data/Abbreviations/slang.txt [following]\n",
            "--2019-05-04 17:26:14--  https://github.com/vCillusion/Social-Defender/raw/master/Data/Abbreviations/slang.txt\n",
            "Reusing existing connection to github.com:443.\n",
            "HTTP request sent, awaiting response... 302 Found\n",
            "Location: https://raw.githubusercontent.com/vCillusion/Social-Defender/master/Data/Abbreviations/slang.txt [following]\n",
            "--2019-05-04 17:26:14--  https://raw.githubusercontent.com/vCillusion/Social-Defender/master/Data/Abbreviations/slang.txt\n",
            "Resolving raw.githubusercontent.com (raw.githubusercontent.com)... 151.101.0.133, 151.101.64.133, 151.101.128.133, ...\n",
            "Connecting to raw.githubusercontent.com (raw.githubusercontent.com)|151.101.0.133|:443... connected.\n",
            "HTTP request sent, awaiting response... 200 OK\n",
            "Length: 3302 (3.2K) [text/plain]\n",
            "Saving to: ‘slang.txt?raw=true’\n",
            "\n",
            "slang.txt?raw=true  100%[===================>]   3.22K  --.-KB/s    in 0s      \n",
            "\n",
            "2019-05-04 17:26:14 (66.5 MB/s) - ‘slang.txt?raw=true’ saved [3302/3302]\n",
            "\n",
            "{'2f4u': 'Too Fast For You', '4yeo': 'For Your Eyes Only', 'fyeo': 'For Your Eyes Only', 'aamof': 'As a Matter of Fact', 'ack': 'Acknowledgment', 'afaik': 'As far as I know', 'afair': 'As far as I remember', 'afk': 'Away from Keyboard', 'al': 'annual leave', 'aka': 'Also known as', 'b2k': 'Back to Keyboard', 'brb': 'Be right Back', 'btk': 'Back to Keyboard', 'btt': 'Back to Topic', 'btw': 'By the Way', 'b/c': 'Because', 'c&p': 'Copy and Paste', 'cu': 'See you', 'cys': 'Check your Settings', 'diy': 'Do it Yourself', 'dgmw': \"Don't get me wrong\", 'eobd': 'End of Business Day', 'eod': 'End of Day', 'eom': 'End of Message', 'eot': 'End of Text', 'faq': 'Frequently asked Questions', 'fack': 'Full Acknowledge', 'fka': 'Formerly known as', 'fwiw': \"For what it's Worth\", 'fyi': 'For your Information', 'ftw': 'Fuck the World', 'gtg': 'got to go', 'hf': 'Have fun', 'hth': 'Hope this Helps', 'idk': \"I Don't Know\", 'iirc': 'If I Remember Correctly', 'imho': 'In my Humble Opinion', 'imo': 'In my Opinion', 'imnsho': 'In my not so Humble Opinion', 'iow': 'In other Words', 'itt': 'In this Thread', 'jfyi': 'Just For your Information', 'lol': 'Laughing out loud', 'mmw': 'Mark my Words', 'n/a': 'Not Applicable', 'nan': 'Not a Number', 'nntr': 'No need to Reply', 'noob': 'Newbie', 'n00b': 'Newbie', 'noyb': 'None of your Business', 'nrn': 'No Reply Necessary', 'omg': 'Oh my God', 'op': 'Original Post', 'ot': 'Off Topic', 'otoh': 'On the other Hand', 'pebkac': 'Problem exists between Keyboard and Chair', 'pov': 'Point of View', 'rotfl': 'Rolling on the Floor Laughing', 'rsvp': 'Please reply', 'rtfm': 'Read the fine Manual', 'scnr': 'Sorry, could not Resist', 'sflr': 'Sorry, for late Reply', 'spoc': 'Single Point of Contact', 'tba': 'To be Announced', 'tbc': 'To be Continued', 'tia': 'Thanks in Advance', 'tgif': 'Thanks God, its Friday', 'thx': 'Thanks', 'tnx': 'Thanks', 'tq': 'Thank You', 'tyvm': 'Thank You Very Much', 'tyt': 'Take your Time', 'ttyl': 'Talk to you Later', 'w00t': 'Hooray', 'wfh': 'work from home', 'wfm': 'Works for Me', 'wrt': 'With Regard to', 'wth': 'What the Hell', 'wtf': 'What the Fuck', 'ymmd': 'You made my Day', 'ymmv': 'Your Mileage may vary', 'yam': 'Yet Another Meeting', 'icymi': 'In Case you missed it', '2moro': 'Tomorrow', '2nte': 'Tonight', 'aeap': 'As Early as Possible', 'alap': 'As Late as Possible', 'asap': 'As Soon as Possible', 'asl': 'Age, Sex, Location?', 'b3': 'Blah, Blah, Blah', 'b4yki': 'Before You Know it', 'bff': 'Best Friends Forever', 'bm&y': 'Between Me and You', 'brt': 'Be right There', 'btam': 'Be that as it May', 'c-p': 'Sleepy', 'ctn': 'Cannot talk now', 'cus': 'See You Soon', 'cwot': 'Complete Waste of Time', 'cyt': 'See You Tomorrow', 'e123': 'Easy', 'em?': 'Excuse Me?', 'f2f': 'Face to Face', 'fc': 'Fingers Crossed', 'foaf': 'Friend of a Friend', 'gr8': 'Great', 'hak': 'Hugs and Kisses', 'idc': \"I Don't Care\", 'ilu': 'I Love You', 'ily': 'I Love You', 'imu': 'I Miss You', 'irl': 'In Real Life', 'j/k': 'Just Kidding', 'jc': 'Just Checking', 'jtlyk': 'Just to Let You Know', 'kfy': 'Kiss for You', 'kmn': 'Kill Me Now', 'kpc': 'Keeping Parents Clueless', 'l8r': 'Later', 'mof': 'Male or Female', 'mtfbwy': 'May the Force be with You', 'myob': 'Mind Your Own Business', 'n-a-y-l': 'In a While', 'nayl': 'In a While', 'naz': 'Name, Address, ZIP', 'nc': 'No Comment', 'nimby': 'Not in my Backyard', 'nm': 'Never Mind', 'np': 'No Problem', 'nsfw': 'Not Safe for Work', 'ntim': 'Not that it Matters', 'nvm': 'Never Mind', 'oatus': 'On a totally Unrelated Subject', 'oic': 'Oh, I See', 'omw': 'On My Way', 'otl': 'Out to Lunch', 'otp': 'On the Phone', 'p911': 'Parent Alert', 'pal': 'Parents are Listening', 'paw': 'Parents are Watching', 'pir': 'Parent in Room', 'pos': 'Parent over Shoulder', 'prop': 'Proper Respect', 'props': 'Proper Respect', 'qt': 'Cutie', 'rn': 'Right Now', 'ru': 'Are You', 'sep': \"Someone else's Problem\", 'sitd': 'Still in the Dark', 'slap': 'Sounds like a Plan', 'smim': 'Send Me an Instant Message', 'so': 'Significant Other', 'tmi': 'Too Much Information', 'ur': 'Your', 'w8': 'Wait', 'wb': 'Welcome Back', 'wycm': 'Will You Call Me?', 'wywh': 'Wish You Were Here', 'xoxoxox': 'Hugs and Kisses', 'u': 'you'}\n",
            "--2019-05-04 17:26:20--  https://github.com/vCillusion/Social-Defender/blob/master/Data/Abbreviations/slang.txt?raw=true\n",
            "Resolving github.com (github.com)... 192.30.253.112\n",
            "Connecting to github.com (github.com)|192.30.253.112|:443... connected.\n",
            "HTTP request sent, awaiting response... 302 Found\n",
            "Location: https://github.com/vCillusion/Social-Defender/raw/master/Data/Abbreviations/slang.txt [following]\n",
            "--2019-05-04 17:26:20--  https://github.com/vCillusion/Social-Defender/raw/master/Data/Abbreviations/slang.txt\n",
            "Reusing existing connection to github.com:443.\n",
            "HTTP request sent, awaiting response... 302 Found\n",
            "Location: https://raw.githubusercontent.com/vCillusion/Social-Defender/master/Data/Abbreviations/slang.txt [following]\n",
            "--2019-05-04 17:26:20--  https://raw.githubusercontent.com/vCillusion/Social-Defender/master/Data/Abbreviations/slang.txt\n",
            "Resolving raw.githubusercontent.com (raw.githubusercontent.com)... 151.101.0.133, 151.101.64.133, 151.101.128.133, ...\n",
            "Connecting to raw.githubusercontent.com (raw.githubusercontent.com)|151.101.0.133|:443... connected.\n",
            "HTTP request sent, awaiting response... 200 OK\n",
            "Length: 3302 (3.2K) [text/plain]\n",
            "Saving to: ‘slang.txt?raw=true’\n",
            "\n",
            "slang.txt?raw=true  100%[===================>]   3.22K  --.-KB/s    in 0s      \n",
            "\n",
            "2019-05-04 17:26:20 (66.3 MB/s) - ‘slang.txt?raw=true’ saved [3302/3302]\n",
            "\n",
            "{'2f4u': 'Too Fast For You', '4yeo': 'For Your Eyes Only', 'fyeo': 'For Your Eyes Only', 'aamof': 'As a Matter of Fact', 'ack': 'Acknowledgment', 'afaik': 'As far as I know', 'afair': 'As far as I remember', 'afk': 'Away from Keyboard', 'al': 'annual leave', 'aka': 'Also known as', 'b2k': 'Back to Keyboard', 'brb': 'Be right Back', 'btk': 'Back to Keyboard', 'btt': 'Back to Topic', 'btw': 'By the Way', 'b/c': 'Because', 'c&p': 'Copy and Paste', 'cu': 'See you', 'cys': 'Check your Settings', 'diy': 'Do it Yourself', 'dgmw': \"Don't get me wrong\", 'eobd': 'End of Business Day', 'eod': 'End of Day', 'eom': 'End of Message', 'eot': 'End of Text', 'faq': 'Frequently asked Questions', 'fack': 'Full Acknowledge', 'fka': 'Formerly known as', 'fwiw': \"For what it's Worth\", 'fyi': 'For your Information', 'ftw': 'Fuck the World', 'gtg': 'got to go', 'hf': 'Have fun', 'hth': 'Hope this Helps', 'idk': \"I Don't Know\", 'iirc': 'If I Remember Correctly', 'imho': 'In my Humble Opinion', 'imo': 'In my Opinion', 'imnsho': 'In my not so Humble Opinion', 'iow': 'In other Words', 'itt': 'In this Thread', 'jfyi': 'Just For your Information', 'lol': 'Laughing out loud', 'mmw': 'Mark my Words', 'n/a': 'Not Applicable', 'nan': 'Not a Number', 'nntr': 'No need to Reply', 'noob': 'Newbie', 'n00b': 'Newbie', 'noyb': 'None of your Business', 'nrn': 'No Reply Necessary', 'omg': 'Oh my God', 'op': 'Original Post', 'ot': 'Off Topic', 'otoh': 'On the other Hand', 'pebkac': 'Problem exists between Keyboard and Chair', 'pov': 'Point of View', 'rotfl': 'Rolling on the Floor Laughing', 'rsvp': 'Please reply', 'rtfm': 'Read the fine Manual', 'scnr': 'Sorry, could not Resist', 'sflr': 'Sorry, for late Reply', 'spoc': 'Single Point of Contact', 'tba': 'To be Announced', 'tbc': 'To be Continued', 'tia': 'Thanks in Advance', 'tgif': 'Thanks God, its Friday', 'thx': 'Thanks', 'tnx': 'Thanks', 'tq': 'Thank You', 'tyvm': 'Thank You Very Much', 'tyt': 'Take your Time', 'ttyl': 'Talk to you Later', 'w00t': 'Hooray', 'wfh': 'work from home', 'wfm': 'Works for Me', 'wrt': 'With Regard to', 'wth': 'What the Hell', 'wtf': 'What the Fuck', 'ymmd': 'You made my Day', 'ymmv': 'Your Mileage may vary', 'yam': 'Yet Another Meeting', 'icymi': 'In Case you missed it', '2moro': 'Tomorrow', '2nte': 'Tonight', 'aeap': 'As Early as Possible', 'alap': 'As Late as Possible', 'asap': 'As Soon as Possible', 'asl': 'Age, Sex, Location?', 'b3': 'Blah, Blah, Blah', 'b4yki': 'Before You Know it', 'bff': 'Best Friends Forever', 'bm&y': 'Between Me and You', 'brt': 'Be right There', 'btam': 'Be that as it May', 'c-p': 'Sleepy', 'ctn': 'Cannot talk now', 'cus': 'See You Soon', 'cwot': 'Complete Waste of Time', 'cyt': 'See You Tomorrow', 'e123': 'Easy', 'em?': 'Excuse Me?', 'f2f': 'Face to Face', 'fc': 'Fingers Crossed', 'foaf': 'Friend of a Friend', 'gr8': 'Great', 'hak': 'Hugs and Kisses', 'idc': \"I Don't Care\", 'ilu': 'I Love You', 'ily': 'I Love You', 'imu': 'I Miss You', 'irl': 'In Real Life', 'j/k': 'Just Kidding', 'jc': 'Just Checking', 'jtlyk': 'Just to Let You Know', 'kfy': 'Kiss for You', 'kmn': 'Kill Me Now', 'kpc': 'Keeping Parents Clueless', 'l8r': 'Later', 'mof': 'Male or Female', 'mtfbwy': 'May the Force be with You', 'myob': 'Mind Your Own Business', 'n-a-y-l': 'In a While', 'nayl': 'In a While', 'naz': 'Name, Address, ZIP', 'nc': 'No Comment', 'nimby': 'Not in my Backyard', 'nm': 'Never Mind', 'np': 'No Problem', 'nsfw': 'Not Safe for Work', 'ntim': 'Not that it Matters', 'nvm': 'Never Mind', 'oatus': 'On a totally Unrelated Subject', 'oic': 'Oh, I See', 'omw': 'On My Way', 'otl': 'Out to Lunch', 'otp': 'On the Phone', 'p911': 'Parent Alert', 'pal': 'Parents are Listening', 'paw': 'Parents are Watching', 'pir': 'Parent in Room', 'pos': 'Parent over Shoulder', 'prop': 'Proper Respect', 'props': 'Proper Respect', 'qt': 'Cutie', 'rn': 'Right Now', 'ru': 'Are You', 'sep': \"Someone else's Problem\", 'sitd': 'Still in the Dark', 'slap': 'Sounds like a Plan', 'smim': 'Send Me an Instant Message', 'so': 'Significant Other', 'tmi': 'Too Much Information', 'ur': 'Your', 'w8': 'Wait', 'wb': 'Welcome Back', 'wycm': 'Will You Call Me?', 'wywh': 'Wish You Were Here', 'xoxoxox': 'Hugs and Kisses', 'u': 'you'}\n",
            "--2019-05-04 17:26:25--  https://github.com/vCillusion/Social-Defender/blob/master/Data/Abbreviations/slang.txt?raw=true\n",
            "Resolving github.com (github.com)... 192.30.253.112\n",
            "Connecting to github.com (github.com)|192.30.253.112|:443... connected.\n",
            "HTTP request sent, awaiting response... 302 Found\n",
            "Location: https://github.com/vCillusion/Social-Defender/raw/master/Data/Abbreviations/slang.txt [following]\n",
            "--2019-05-04 17:26:26--  https://github.com/vCillusion/Social-Defender/raw/master/Data/Abbreviations/slang.txt\n",
            "Reusing existing connection to github.com:443.\n",
            "HTTP request sent, awaiting response... 302 Found\n",
            "Location: https://raw.githubusercontent.com/vCillusion/Social-Defender/master/Data/Abbreviations/slang.txt [following]\n",
            "--2019-05-04 17:26:26--  https://raw.githubusercontent.com/vCillusion/Social-Defender/master/Data/Abbreviations/slang.txt\n",
            "Resolving raw.githubusercontent.com (raw.githubusercontent.com)... 151.101.0.133, 151.101.64.133, 151.101.128.133, ...\n",
            "Connecting to raw.githubusercontent.com (raw.githubusercontent.com)|151.101.0.133|:443... connected.\n",
            "HTTP request sent, awaiting response... 200 OK\n",
            "Length: 3302 (3.2K) [text/plain]\n",
            "Saving to: ‘slang.txt?raw=true’\n",
            "\n",
            "slang.txt?raw=true  100%[===================>]   3.22K  --.-KB/s    in 0s      \n",
            "\n",
            "2019-05-04 17:26:26 (46.2 MB/s) - ‘slang.txt?raw=true’ saved [3302/3302]\n",
            "\n",
            "{'2f4u': 'Too Fast For You', '4yeo': 'For Your Eyes Only', 'fyeo': 'For Your Eyes Only', 'aamof': 'As a Matter of Fact', 'ack': 'Acknowledgment', 'afaik': 'As far as I know', 'afair': 'As far as I remember', 'afk': 'Away from Keyboard', 'al': 'annual leave', 'aka': 'Also known as', 'b2k': 'Back to Keyboard', 'brb': 'Be right Back', 'btk': 'Back to Keyboard', 'btt': 'Back to Topic', 'btw': 'By the Way', 'b/c': 'Because', 'c&p': 'Copy and Paste', 'cu': 'See you', 'cys': 'Check your Settings', 'diy': 'Do it Yourself', 'dgmw': \"Don't get me wrong\", 'eobd': 'End of Business Day', 'eod': 'End of Day', 'eom': 'End of Message', 'eot': 'End of Text', 'faq': 'Frequently asked Questions', 'fack': 'Full Acknowledge', 'fka': 'Formerly known as', 'fwiw': \"For what it's Worth\", 'fyi': 'For your Information', 'ftw': 'Fuck the World', 'gtg': 'got to go', 'hf': 'Have fun', 'hth': 'Hope this Helps', 'idk': \"I Don't Know\", 'iirc': 'If I Remember Correctly', 'imho': 'In my Humble Opinion', 'imo': 'In my Opinion', 'imnsho': 'In my not so Humble Opinion', 'iow': 'In other Words', 'itt': 'In this Thread', 'jfyi': 'Just For your Information', 'lol': 'Laughing out loud', 'mmw': 'Mark my Words', 'n/a': 'Not Applicable', 'nan': 'Not a Number', 'nntr': 'No need to Reply', 'noob': 'Newbie', 'n00b': 'Newbie', 'noyb': 'None of your Business', 'nrn': 'No Reply Necessary', 'omg': 'Oh my God', 'op': 'Original Post', 'ot': 'Off Topic', 'otoh': 'On the other Hand', 'pebkac': 'Problem exists between Keyboard and Chair', 'pov': 'Point of View', 'rotfl': 'Rolling on the Floor Laughing', 'rsvp': 'Please reply', 'rtfm': 'Read the fine Manual', 'scnr': 'Sorry, could not Resist', 'sflr': 'Sorry, for late Reply', 'spoc': 'Single Point of Contact', 'tba': 'To be Announced', 'tbc': 'To be Continued', 'tia': 'Thanks in Advance', 'tgif': 'Thanks God, its Friday', 'thx': 'Thanks', 'tnx': 'Thanks', 'tq': 'Thank You', 'tyvm': 'Thank You Very Much', 'tyt': 'Take your Time', 'ttyl': 'Talk to you Later', 'w00t': 'Hooray', 'wfh': 'work from home', 'wfm': 'Works for Me', 'wrt': 'With Regard to', 'wth': 'What the Hell', 'wtf': 'What the Fuck', 'ymmd': 'You made my Day', 'ymmv': 'Your Mileage may vary', 'yam': 'Yet Another Meeting', 'icymi': 'In Case you missed it', '2moro': 'Tomorrow', '2nte': 'Tonight', 'aeap': 'As Early as Possible', 'alap': 'As Late as Possible', 'asap': 'As Soon as Possible', 'asl': 'Age, Sex, Location?', 'b3': 'Blah, Blah, Blah', 'b4yki': 'Before You Know it', 'bff': 'Best Friends Forever', 'bm&y': 'Between Me and You', 'brt': 'Be right There', 'btam': 'Be that as it May', 'c-p': 'Sleepy', 'ctn': 'Cannot talk now', 'cus': 'See You Soon', 'cwot': 'Complete Waste of Time', 'cyt': 'See You Tomorrow', 'e123': 'Easy', 'em?': 'Excuse Me?', 'f2f': 'Face to Face', 'fc': 'Fingers Crossed', 'foaf': 'Friend of a Friend', 'gr8': 'Great', 'hak': 'Hugs and Kisses', 'idc': \"I Don't Care\", 'ilu': 'I Love You', 'ily': 'I Love You', 'imu': 'I Miss You', 'irl': 'In Real Life', 'j/k': 'Just Kidding', 'jc': 'Just Checking', 'jtlyk': 'Just to Let You Know', 'kfy': 'Kiss for You', 'kmn': 'Kill Me Now', 'kpc': 'Keeping Parents Clueless', 'l8r': 'Later', 'mof': 'Male or Female', 'mtfbwy': 'May the Force be with You', 'myob': 'Mind Your Own Business', 'n-a-y-l': 'In a While', 'nayl': 'In a While', 'naz': 'Name, Address, ZIP', 'nc': 'No Comment', 'nimby': 'Not in my Backyard', 'nm': 'Never Mind', 'np': 'No Problem', 'nsfw': 'Not Safe for Work', 'ntim': 'Not that it Matters', 'nvm': 'Never Mind', 'oatus': 'On a totally Unrelated Subject', 'oic': 'Oh, I See', 'omw': 'On My Way', 'otl': 'Out to Lunch', 'otp': 'On the Phone', 'p911': 'Parent Alert', 'pal': 'Parents are Listening', 'paw': 'Parents are Watching', 'pir': 'Parent in Room', 'pos': 'Parent over Shoulder', 'prop': 'Proper Respect', 'props': 'Proper Respect', 'qt': 'Cutie', 'rn': 'Right Now', 'ru': 'Are You', 'sep': \"Someone else's Problem\", 'sitd': 'Still in the Dark', 'slap': 'Sounds like a Plan', 'smim': 'Send Me an Instant Message', 'so': 'Significant Other', 'tmi': 'Too Much Information', 'ur': 'Your', 'w8': 'Wait', 'wb': 'Welcome Back', 'wycm': 'Will You Call Me?', 'wywh': 'Wish You Were Here', 'xoxoxox': 'Hugs and Kisses', 'u': 'you'}\n",
            "--2019-05-04 17:26:32--  https://github.com/vCillusion/Social-Defender/blob/master/Data/Abbreviations/slang.txt?raw=true\n",
            "Resolving github.com (github.com)... 192.30.253.112\n",
            "Connecting to github.com (github.com)|192.30.253.112|:443... connected.\n",
            "HTTP request sent, awaiting response... 302 Found\n",
            "Location: https://github.com/vCillusion/Social-Defender/raw/master/Data/Abbreviations/slang.txt [following]\n",
            "--2019-05-04 17:26:32--  https://github.com/vCillusion/Social-Defender/raw/master/Data/Abbreviations/slang.txt\n",
            "Reusing existing connection to github.com:443.\n",
            "HTTP request sent, awaiting response... 302 Found\n",
            "Location: https://raw.githubusercontent.com/vCillusion/Social-Defender/master/Data/Abbreviations/slang.txt [following]\n",
            "--2019-05-04 17:26:32--  https://raw.githubusercontent.com/vCillusion/Social-Defender/master/Data/Abbreviations/slang.txt\n",
            "Resolving raw.githubusercontent.com (raw.githubusercontent.com)... 151.101.0.133, 151.101.64.133, 151.101.128.133, ...\n",
            "Connecting to raw.githubusercontent.com (raw.githubusercontent.com)|151.101.0.133|:443... connected.\n",
            "HTTP request sent, awaiting response... 200 OK\n",
            "Length: 3302 (3.2K) [text/plain]\n",
            "Saving to: ‘slang.txt?raw=true’\n",
            "\n",
            "slang.txt?raw=true  100%[===================>]   3.22K  --.-KB/s    in 0s      \n",
            "\n",
            "2019-05-04 17:26:32 (60.4 MB/s) - ‘slang.txt?raw=true’ saved [3302/3302]\n",
            "\n",
            "{'2f4u': 'Too Fast For You', '4yeo': 'For Your Eyes Only', 'fyeo': 'For Your Eyes Only', 'aamof': 'As a Matter of Fact', 'ack': 'Acknowledgment', 'afaik': 'As far as I know', 'afair': 'As far as I remember', 'afk': 'Away from Keyboard', 'al': 'annual leave', 'aka': 'Also known as', 'b2k': 'Back to Keyboard', 'brb': 'Be right Back', 'btk': 'Back to Keyboard', 'btt': 'Back to Topic', 'btw': 'By the Way', 'b/c': 'Because', 'c&p': 'Copy and Paste', 'cu': 'See you', 'cys': 'Check your Settings', 'diy': 'Do it Yourself', 'dgmw': \"Don't get me wrong\", 'eobd': 'End of Business Day', 'eod': 'End of Day', 'eom': 'End of Message', 'eot': 'End of Text', 'faq': 'Frequently asked Questions', 'fack': 'Full Acknowledge', 'fka': 'Formerly known as', 'fwiw': \"For what it's Worth\", 'fyi': 'For your Information', 'ftw': 'Fuck the World', 'gtg': 'got to go', 'hf': 'Have fun', 'hth': 'Hope this Helps', 'idk': \"I Don't Know\", 'iirc': 'If I Remember Correctly', 'imho': 'In my Humble Opinion', 'imo': 'In my Opinion', 'imnsho': 'In my not so Humble Opinion', 'iow': 'In other Words', 'itt': 'In this Thread', 'jfyi': 'Just For your Information', 'lol': 'Laughing out loud', 'mmw': 'Mark my Words', 'n/a': 'Not Applicable', 'nan': 'Not a Number', 'nntr': 'No need to Reply', 'noob': 'Newbie', 'n00b': 'Newbie', 'noyb': 'None of your Business', 'nrn': 'No Reply Necessary', 'omg': 'Oh my God', 'op': 'Original Post', 'ot': 'Off Topic', 'otoh': 'On the other Hand', 'pebkac': 'Problem exists between Keyboard and Chair', 'pov': 'Point of View', 'rotfl': 'Rolling on the Floor Laughing', 'rsvp': 'Please reply', 'rtfm': 'Read the fine Manual', 'scnr': 'Sorry, could not Resist', 'sflr': 'Sorry, for late Reply', 'spoc': 'Single Point of Contact', 'tba': 'To be Announced', 'tbc': 'To be Continued', 'tia': 'Thanks in Advance', 'tgif': 'Thanks God, its Friday', 'thx': 'Thanks', 'tnx': 'Thanks', 'tq': 'Thank You', 'tyvm': 'Thank You Very Much', 'tyt': 'Take your Time', 'ttyl': 'Talk to you Later', 'w00t': 'Hooray', 'wfh': 'work from home', 'wfm': 'Works for Me', 'wrt': 'With Regard to', 'wth': 'What the Hell', 'wtf': 'What the Fuck', 'ymmd': 'You made my Day', 'ymmv': 'Your Mileage may vary', 'yam': 'Yet Another Meeting', 'icymi': 'In Case you missed it', '2moro': 'Tomorrow', '2nte': 'Tonight', 'aeap': 'As Early as Possible', 'alap': 'As Late as Possible', 'asap': 'As Soon as Possible', 'asl': 'Age, Sex, Location?', 'b3': 'Blah, Blah, Blah', 'b4yki': 'Before You Know it', 'bff': 'Best Friends Forever', 'bm&y': 'Between Me and You', 'brt': 'Be right There', 'btam': 'Be that as it May', 'c-p': 'Sleepy', 'ctn': 'Cannot talk now', 'cus': 'See You Soon', 'cwot': 'Complete Waste of Time', 'cyt': 'See You Tomorrow', 'e123': 'Easy', 'em?': 'Excuse Me?', 'f2f': 'Face to Face', 'fc': 'Fingers Crossed', 'foaf': 'Friend of a Friend', 'gr8': 'Great', 'hak': 'Hugs and Kisses', 'idc': \"I Don't Care\", 'ilu': 'I Love You', 'ily': 'I Love You', 'imu': 'I Miss You', 'irl': 'In Real Life', 'j/k': 'Just Kidding', 'jc': 'Just Checking', 'jtlyk': 'Just to Let You Know', 'kfy': 'Kiss for You', 'kmn': 'Kill Me Now', 'kpc': 'Keeping Parents Clueless', 'l8r': 'Later', 'mof': 'Male or Female', 'mtfbwy': 'May the Force be with You', 'myob': 'Mind Your Own Business', 'n-a-y-l': 'In a While', 'nayl': 'In a While', 'naz': 'Name, Address, ZIP', 'nc': 'No Comment', 'nimby': 'Not in my Backyard', 'nm': 'Never Mind', 'np': 'No Problem', 'nsfw': 'Not Safe for Work', 'ntim': 'Not that it Matters', 'nvm': 'Never Mind', 'oatus': 'On a totally Unrelated Subject', 'oic': 'Oh, I See', 'omw': 'On My Way', 'otl': 'Out to Lunch', 'otp': 'On the Phone', 'p911': 'Parent Alert', 'pal': 'Parents are Listening', 'paw': 'Parents are Watching', 'pir': 'Parent in Room', 'pos': 'Parent over Shoulder', 'prop': 'Proper Respect', 'props': 'Proper Respect', 'qt': 'Cutie', 'rn': 'Right Now', 'ru': 'Are You', 'sep': \"Someone else's Problem\", 'sitd': 'Still in the Dark', 'slap': 'Sounds like a Plan', 'smim': 'Send Me an Instant Message', 'so': 'Significant Other', 'tmi': 'Too Much Information', 'ur': 'Your', 'w8': 'Wait', 'wb': 'Welcome Back', 'wycm': 'Will You Call Me?', 'wywh': 'Wish You Were Here', 'xoxoxox': 'Hugs and Kisses', 'u': 'you'}\n",
            "--2019-05-04 17:26:37--  https://github.com/vCillusion/Social-Defender/blob/master/Data/Abbreviations/slang.txt?raw=true\n",
            "Resolving github.com (github.com)... 192.30.253.113\n",
            "Connecting to github.com (github.com)|192.30.253.113|:443... connected.\n",
            "HTTP request sent, awaiting response... 302 Found\n",
            "Location: https://github.com/vCillusion/Social-Defender/raw/master/Data/Abbreviations/slang.txt [following]\n",
            "--2019-05-04 17:26:37--  https://github.com/vCillusion/Social-Defender/raw/master/Data/Abbreviations/slang.txt\n",
            "Reusing existing connection to github.com:443.\n",
            "HTTP request sent, awaiting response... 302 Found\n",
            "Location: https://raw.githubusercontent.com/vCillusion/Social-Defender/master/Data/Abbreviations/slang.txt [following]\n",
            "--2019-05-04 17:26:37--  https://raw.githubusercontent.com/vCillusion/Social-Defender/master/Data/Abbreviations/slang.txt\n",
            "Resolving raw.githubusercontent.com (raw.githubusercontent.com)... 151.101.0.133, 151.101.64.133, 151.101.128.133, ...\n",
            "Connecting to raw.githubusercontent.com (raw.githubusercontent.com)|151.101.0.133|:443... connected.\n",
            "HTTP request sent, awaiting response... 200 OK\n",
            "Length: 3302 (3.2K) [text/plain]\n",
            "Saving to: ‘slang.txt?raw=true’\n",
            "\n",
            "slang.txt?raw=true  100%[===================>]   3.22K  --.-KB/s    in 0s      \n",
            "\n",
            "2019-05-04 17:26:37 (51.8 MB/s) - ‘slang.txt?raw=true’ saved [3302/3302]\n",
            "\n",
            "{'2f4u': 'Too Fast For You', '4yeo': 'For Your Eyes Only', 'fyeo': 'For Your Eyes Only', 'aamof': 'As a Matter of Fact', 'ack': 'Acknowledgment', 'afaik': 'As far as I know', 'afair': 'As far as I remember', 'afk': 'Away from Keyboard', 'al': 'annual leave', 'aka': 'Also known as', 'b2k': 'Back to Keyboard', 'brb': 'Be right Back', 'btk': 'Back to Keyboard', 'btt': 'Back to Topic', 'btw': 'By the Way', 'b/c': 'Because', 'c&p': 'Copy and Paste', 'cu': 'See you', 'cys': 'Check your Settings', 'diy': 'Do it Yourself', 'dgmw': \"Don't get me wrong\", 'eobd': 'End of Business Day', 'eod': 'End of Day', 'eom': 'End of Message', 'eot': 'End of Text', 'faq': 'Frequently asked Questions', 'fack': 'Full Acknowledge', 'fka': 'Formerly known as', 'fwiw': \"For what it's Worth\", 'fyi': 'For your Information', 'ftw': 'Fuck the World', 'gtg': 'got to go', 'hf': 'Have fun', 'hth': 'Hope this Helps', 'idk': \"I Don't Know\", 'iirc': 'If I Remember Correctly', 'imho': 'In my Humble Opinion', 'imo': 'In my Opinion', 'imnsho': 'In my not so Humble Opinion', 'iow': 'In other Words', 'itt': 'In this Thread', 'jfyi': 'Just For your Information', 'lol': 'Laughing out loud', 'mmw': 'Mark my Words', 'n/a': 'Not Applicable', 'nan': 'Not a Number', 'nntr': 'No need to Reply', 'noob': 'Newbie', 'n00b': 'Newbie', 'noyb': 'None of your Business', 'nrn': 'No Reply Necessary', 'omg': 'Oh my God', 'op': 'Original Post', 'ot': 'Off Topic', 'otoh': 'On the other Hand', 'pebkac': 'Problem exists between Keyboard and Chair', 'pov': 'Point of View', 'rotfl': 'Rolling on the Floor Laughing', 'rsvp': 'Please reply', 'rtfm': 'Read the fine Manual', 'scnr': 'Sorry, could not Resist', 'sflr': 'Sorry, for late Reply', 'spoc': 'Single Point of Contact', 'tba': 'To be Announced', 'tbc': 'To be Continued', 'tia': 'Thanks in Advance', 'tgif': 'Thanks God, its Friday', 'thx': 'Thanks', 'tnx': 'Thanks', 'tq': 'Thank You', 'tyvm': 'Thank You Very Much', 'tyt': 'Take your Time', 'ttyl': 'Talk to you Later', 'w00t': 'Hooray', 'wfh': 'work from home', 'wfm': 'Works for Me', 'wrt': 'With Regard to', 'wth': 'What the Hell', 'wtf': 'What the Fuck', 'ymmd': 'You made my Day', 'ymmv': 'Your Mileage may vary', 'yam': 'Yet Another Meeting', 'icymi': 'In Case you missed it', '2moro': 'Tomorrow', '2nte': 'Tonight', 'aeap': 'As Early as Possible', 'alap': 'As Late as Possible', 'asap': 'As Soon as Possible', 'asl': 'Age, Sex, Location?', 'b3': 'Blah, Blah, Blah', 'b4yki': 'Before You Know it', 'bff': 'Best Friends Forever', 'bm&y': 'Between Me and You', 'brt': 'Be right There', 'btam': 'Be that as it May', 'c-p': 'Sleepy', 'ctn': 'Cannot talk now', 'cus': 'See You Soon', 'cwot': 'Complete Waste of Time', 'cyt': 'See You Tomorrow', 'e123': 'Easy', 'em?': 'Excuse Me?', 'f2f': 'Face to Face', 'fc': 'Fingers Crossed', 'foaf': 'Friend of a Friend', 'gr8': 'Great', 'hak': 'Hugs and Kisses', 'idc': \"I Don't Care\", 'ilu': 'I Love You', 'ily': 'I Love You', 'imu': 'I Miss You', 'irl': 'In Real Life', 'j/k': 'Just Kidding', 'jc': 'Just Checking', 'jtlyk': 'Just to Let You Know', 'kfy': 'Kiss for You', 'kmn': 'Kill Me Now', 'kpc': 'Keeping Parents Clueless', 'l8r': 'Later', 'mof': 'Male or Female', 'mtfbwy': 'May the Force be with You', 'myob': 'Mind Your Own Business', 'n-a-y-l': 'In a While', 'nayl': 'In a While', 'naz': 'Name, Address, ZIP', 'nc': 'No Comment', 'nimby': 'Not in my Backyard', 'nm': 'Never Mind', 'np': 'No Problem', 'nsfw': 'Not Safe for Work', 'ntim': 'Not that it Matters', 'nvm': 'Never Mind', 'oatus': 'On a totally Unrelated Subject', 'oic': 'Oh, I See', 'omw': 'On My Way', 'otl': 'Out to Lunch', 'otp': 'On the Phone', 'p911': 'Parent Alert', 'pal': 'Parents are Listening', 'paw': 'Parents are Watching', 'pir': 'Parent in Room', 'pos': 'Parent over Shoulder', 'prop': 'Proper Respect', 'props': 'Proper Respect', 'qt': 'Cutie', 'rn': 'Right Now', 'ru': 'Are You', 'sep': \"Someone else's Problem\", 'sitd': 'Still in the Dark', 'slap': 'Sounds like a Plan', 'smim': 'Send Me an Instant Message', 'so': 'Significant Other', 'tmi': 'Too Much Information', 'ur': 'Your', 'w8': 'Wait', 'wb': 'Welcome Back', 'wycm': 'Will You Call Me?', 'wywh': 'Wish You Were Here', 'xoxoxox': 'Hugs and Kisses', 'u': 'you'}\n",
            "0                                             🦋🦋🦋❤️\n",
            "1    Pdhane do didi ! 😫 Semester exam chl rhe hai !\n",
            "2                                 @dishapatani 🔥🔥🔥👈\n",
            "3           @dishapatani you are always fabulous ❤️\n",
            "4             @dishapatani mbd radisson blu delhi..\n",
            "Name: Comments Text, dtype: object\n"
          ],
          "name": "stdout"
        },
        {
          "output_type": "stream",
          "text": [
            "/usr/local/lib/python3.6/dist-packages/pandas/core/indexing.py:543: SettingWithCopyWarning: \n",
            "A value is trying to be set on a copy of a slice from a DataFrame.\n",
            "Try using .loc[row_indexer,col_indexer] = value instead\n",
            "\n",
            "See the caveats in the documentation: http://pandas.pydata.org/pandas-docs/stable/indexing.html#indexing-view-versus-copy\n",
            "  self.obj[item] = s\n"
          ],
          "name": "stderr"
        },
        {
          "output_type": "error",
          "ename": "KeyError",
          "evalue": "ignored",
          "traceback": [
            "\u001b[0;31m---------------------------------------------------------------------------\u001b[0m",
            "\u001b[0;31mKeyError\u001b[0m                                  Traceback (most recent call last)",
            "\u001b[0;32m/usr/local/lib/python3.6/dist-packages/pandas/core/indexes/base.py\u001b[0m in \u001b[0;36mget_loc\u001b[0;34m(self, key, method, tolerance)\u001b[0m\n\u001b[1;32m   2656\u001b[0m             \u001b[0;32mtry\u001b[0m\u001b[0;34m:\u001b[0m\u001b[0;34m\u001b[0m\u001b[0;34m\u001b[0m\u001b[0m\n\u001b[0;32m-> 2657\u001b[0;31m                 \u001b[0;32mreturn\u001b[0m \u001b[0mself\u001b[0m\u001b[0;34m.\u001b[0m\u001b[0m_engine\u001b[0m\u001b[0;34m.\u001b[0m\u001b[0mget_loc\u001b[0m\u001b[0;34m(\u001b[0m\u001b[0mkey\u001b[0m\u001b[0;34m)\u001b[0m\u001b[0;34m\u001b[0m\u001b[0;34m\u001b[0m\u001b[0m\n\u001b[0m\u001b[1;32m   2658\u001b[0m             \u001b[0;32mexcept\u001b[0m \u001b[0mKeyError\u001b[0m\u001b[0;34m:\u001b[0m\u001b[0;34m\u001b[0m\u001b[0;34m\u001b[0m\u001b[0m\n",
            "\u001b[0;32mpandas/_libs/index.pyx\u001b[0m in \u001b[0;36mpandas._libs.index.IndexEngine.get_loc\u001b[0;34m()\u001b[0m\n",
            "\u001b[0;32mpandas/_libs/index.pyx\u001b[0m in \u001b[0;36mpandas._libs.index.IndexEngine.get_loc\u001b[0;34m()\u001b[0m\n",
            "\u001b[0;32mpandas/_libs/hashtable_class_helper.pxi\u001b[0m in \u001b[0;36mpandas._libs.hashtable.PyObjectHashTable.get_item\u001b[0;34m()\u001b[0m\n",
            "\u001b[0;32mpandas/_libs/hashtable_class_helper.pxi\u001b[0m in \u001b[0;36mpandas._libs.hashtable.PyObjectHashTable.get_item\u001b[0;34m()\u001b[0m\n",
            "\u001b[0;31mKeyError\u001b[0m: 'Comments Text_Abbr'",
            "\nDuring handling of the above exception, another exception occurred:\n",
            "\u001b[0;31mKeyError\u001b[0m                                  Traceback (most recent call last)",
            "\u001b[0;32m<ipython-input-14-a8b2a512e09c>\u001b[0m in \u001b[0;36m<module>\u001b[0;34m()\u001b[0m\n\u001b[1;32m     39\u001b[0m     lambda comment: translator(comment))\n\u001b[1;32m     40\u001b[0m \u001b[0mprint\u001b[0m\u001b[0;34m(\u001b[0m\u001b[0mshort_data\u001b[0m\u001b[0;34m[\u001b[0m\u001b[0;34m'Comments Text'\u001b[0m\u001b[0;34m]\u001b[0m\u001b[0;34m)\u001b[0m\u001b[0;34m\u001b[0m\u001b[0;34m\u001b[0m\u001b[0m\n\u001b[0;32m---> 41\u001b[0;31m \u001b[0mprint\u001b[0m\u001b[0;34m(\u001b[0m\u001b[0mshort_data\u001b[0m\u001b[0;34m[\u001b[0m\u001b[0;34m'Comments Text_Abbr'\u001b[0m\u001b[0;34m]\u001b[0m\u001b[0;34m)\u001b[0m\u001b[0;34m\u001b[0m\u001b[0;34m\u001b[0m\u001b[0m\n\u001b[0m",
            "\u001b[0;32m/usr/local/lib/python3.6/dist-packages/pandas/core/frame.py\u001b[0m in \u001b[0;36m__getitem__\u001b[0;34m(self, key)\u001b[0m\n\u001b[1;32m   2925\u001b[0m             \u001b[0;32mif\u001b[0m \u001b[0mself\u001b[0m\u001b[0;34m.\u001b[0m\u001b[0mcolumns\u001b[0m\u001b[0;34m.\u001b[0m\u001b[0mnlevels\u001b[0m \u001b[0;34m>\u001b[0m \u001b[0;36m1\u001b[0m\u001b[0;34m:\u001b[0m\u001b[0;34m\u001b[0m\u001b[0;34m\u001b[0m\u001b[0m\n\u001b[1;32m   2926\u001b[0m                 \u001b[0;32mreturn\u001b[0m \u001b[0mself\u001b[0m\u001b[0;34m.\u001b[0m\u001b[0m_getitem_multilevel\u001b[0m\u001b[0;34m(\u001b[0m\u001b[0mkey\u001b[0m\u001b[0;34m)\u001b[0m\u001b[0;34m\u001b[0m\u001b[0;34m\u001b[0m\u001b[0m\n\u001b[0;32m-> 2927\u001b[0;31m             \u001b[0mindexer\u001b[0m \u001b[0;34m=\u001b[0m \u001b[0mself\u001b[0m\u001b[0;34m.\u001b[0m\u001b[0mcolumns\u001b[0m\u001b[0;34m.\u001b[0m\u001b[0mget_loc\u001b[0m\u001b[0;34m(\u001b[0m\u001b[0mkey\u001b[0m\u001b[0;34m)\u001b[0m\u001b[0;34m\u001b[0m\u001b[0;34m\u001b[0m\u001b[0m\n\u001b[0m\u001b[1;32m   2928\u001b[0m             \u001b[0;32mif\u001b[0m \u001b[0mis_integer\u001b[0m\u001b[0;34m(\u001b[0m\u001b[0mindexer\u001b[0m\u001b[0;34m)\u001b[0m\u001b[0;34m:\u001b[0m\u001b[0;34m\u001b[0m\u001b[0;34m\u001b[0m\u001b[0m\n\u001b[1;32m   2929\u001b[0m                 \u001b[0mindexer\u001b[0m \u001b[0;34m=\u001b[0m \u001b[0;34m[\u001b[0m\u001b[0mindexer\u001b[0m\u001b[0;34m]\u001b[0m\u001b[0;34m\u001b[0m\u001b[0;34m\u001b[0m\u001b[0m\n",
            "\u001b[0;32m/usr/local/lib/python3.6/dist-packages/pandas/core/indexes/base.py\u001b[0m in \u001b[0;36mget_loc\u001b[0;34m(self, key, method, tolerance)\u001b[0m\n\u001b[1;32m   2657\u001b[0m                 \u001b[0;32mreturn\u001b[0m \u001b[0mself\u001b[0m\u001b[0;34m.\u001b[0m\u001b[0m_engine\u001b[0m\u001b[0;34m.\u001b[0m\u001b[0mget_loc\u001b[0m\u001b[0;34m(\u001b[0m\u001b[0mkey\u001b[0m\u001b[0;34m)\u001b[0m\u001b[0;34m\u001b[0m\u001b[0;34m\u001b[0m\u001b[0m\n\u001b[1;32m   2658\u001b[0m             \u001b[0;32mexcept\u001b[0m \u001b[0mKeyError\u001b[0m\u001b[0;34m:\u001b[0m\u001b[0;34m\u001b[0m\u001b[0;34m\u001b[0m\u001b[0m\n\u001b[0;32m-> 2659\u001b[0;31m                 \u001b[0;32mreturn\u001b[0m \u001b[0mself\u001b[0m\u001b[0;34m.\u001b[0m\u001b[0m_engine\u001b[0m\u001b[0;34m.\u001b[0m\u001b[0mget_loc\u001b[0m\u001b[0;34m(\u001b[0m\u001b[0mself\u001b[0m\u001b[0;34m.\u001b[0m\u001b[0m_maybe_cast_indexer\u001b[0m\u001b[0;34m(\u001b[0m\u001b[0mkey\u001b[0m\u001b[0;34m)\u001b[0m\u001b[0;34m)\u001b[0m\u001b[0;34m\u001b[0m\u001b[0;34m\u001b[0m\u001b[0m\n\u001b[0m\u001b[1;32m   2660\u001b[0m         \u001b[0mindexer\u001b[0m \u001b[0;34m=\u001b[0m \u001b[0mself\u001b[0m\u001b[0;34m.\u001b[0m\u001b[0mget_indexer\u001b[0m\u001b[0;34m(\u001b[0m\u001b[0;34m[\u001b[0m\u001b[0mkey\u001b[0m\u001b[0;34m]\u001b[0m\u001b[0;34m,\u001b[0m \u001b[0mmethod\u001b[0m\u001b[0;34m=\u001b[0m\u001b[0mmethod\u001b[0m\u001b[0;34m,\u001b[0m \u001b[0mtolerance\u001b[0m\u001b[0;34m=\u001b[0m\u001b[0mtolerance\u001b[0m\u001b[0;34m)\u001b[0m\u001b[0;34m\u001b[0m\u001b[0;34m\u001b[0m\u001b[0m\n\u001b[1;32m   2661\u001b[0m         \u001b[0;32mif\u001b[0m \u001b[0mindexer\u001b[0m\u001b[0;34m.\u001b[0m\u001b[0mndim\u001b[0m \u001b[0;34m>\u001b[0m \u001b[0;36m1\u001b[0m \u001b[0;32mor\u001b[0m \u001b[0mindexer\u001b[0m\u001b[0;34m.\u001b[0m\u001b[0msize\u001b[0m \u001b[0;34m>\u001b[0m \u001b[0;36m1\u001b[0m\u001b[0;34m:\u001b[0m\u001b[0;34m\u001b[0m\u001b[0;34m\u001b[0m\u001b[0m\n",
            "\u001b[0;32mpandas/_libs/index.pyx\u001b[0m in \u001b[0;36mpandas._libs.index.IndexEngine.get_loc\u001b[0;34m()\u001b[0m\n",
            "\u001b[0;32mpandas/_libs/index.pyx\u001b[0m in \u001b[0;36mpandas._libs.index.IndexEngine.get_loc\u001b[0;34m()\u001b[0m\n",
            "\u001b[0;32mpandas/_libs/hashtable_class_helper.pxi\u001b[0m in \u001b[0;36mpandas._libs.hashtable.PyObjectHashTable.get_item\u001b[0;34m()\u001b[0m\n",
            "\u001b[0;32mpandas/_libs/hashtable_class_helper.pxi\u001b[0m in \u001b[0;36mpandas._libs.hashtable.PyObjectHashTable.get_item\u001b[0;34m()\u001b[0m\n",
            "\u001b[0;31mKeyError\u001b[0m: 'Comments Text_Abbr'"
          ]
        }
      ]
    },
    {
      "cell_type": "markdown",
      "metadata": {
        "id": "p7fIRhlK5JRj",
        "colab_type": "text"
      },
      "source": [
        "#### Apply the slang translator"
      ]
    },
    {
      "cell_type": "code",
      "metadata": {
        "id": "x75RriDI40ds",
        "colab_type": "code",
        "colab": {
          "base_uri": "https://localhost:8080/",
          "height": 1996
        },
        "outputId": "089cfa8d-2950-460f-8e08-1e836856925a"
      },
      "source": [
        "\n",
        "short_data = df.head()\n",
        "print('Translate slangs and abbreviations into meaningful words')\n",
        "print(short_data['Comments Text'])\n",
        "short_data.loc[:, 'Comments Text'].apply(translator)\n",
        "print(short_data['Comments Text'])"
      ],
      "execution_count": 35,
      "outputs": [
        {
          "output_type": "stream",
          "text": [
            "Translate slangs and abbreviations into meaningful words\n",
            "@dishapatani you are always fabulous ❤️\n",
            "--2019-05-04 18:07:03--  https://github.com/vCillusion/Social-Defender/blob/master/Data/Abbreviations/slang.txt?raw=true\n",
            "Resolving github.com (github.com)... 192.30.253.113\n",
            "Connecting to github.com (github.com)|192.30.253.113|:443... connected.\n",
            "HTTP request sent, awaiting response... 302 Found\n",
            "Location: https://github.com/vCillusion/Social-Defender/raw/master/Data/Abbreviations/slang.txt [following]\n",
            "--2019-05-04 18:07:04--  https://github.com/vCillusion/Social-Defender/raw/master/Data/Abbreviations/slang.txt\n",
            "Reusing existing connection to github.com:443.\n",
            "HTTP request sent, awaiting response... 302 Found\n",
            "Location: https://raw.githubusercontent.com/vCillusion/Social-Defender/master/Data/Abbreviations/slang.txt [following]\n",
            "--2019-05-04 18:07:04--  https://raw.githubusercontent.com/vCillusion/Social-Defender/master/Data/Abbreviations/slang.txt\n",
            "Resolving raw.githubusercontent.com (raw.githubusercontent.com)... 151.101.0.133, 151.101.64.133, 151.101.128.133, ...\n",
            "Connecting to raw.githubusercontent.com (raw.githubusercontent.com)|151.101.0.133|:443... connected.\n",
            "HTTP request sent, awaiting response... 200 OK\n",
            "Length: 3302 (3.2K) [text/plain]\n",
            "Saving to: ‘slang.txt?raw=true’\n",
            "\n",
            "slang.txt?raw=true  100%[===================>]   3.22K  --.-KB/s    in 0s      \n",
            "\n",
            "2019-05-04 18:07:04 (59.6 MB/s) - ‘slang.txt?raw=true’ saved [3302/3302]\n",
            "\n",
            "{'2f4u': 'Too Fast For You', '4yeo': 'For Your Eyes Only', 'fyeo': 'For Your Eyes Only', 'aamof': 'As a Matter of Fact', 'ack': 'Acknowledgment', 'afaik': 'As far as I know', 'afair': 'As far as I remember', 'afk': 'Away from Keyboard', 'al': 'annual leave', 'aka': 'Also known as', 'b2k': 'Back to Keyboard', 'brb': 'Be right Back', 'btk': 'Back to Keyboard', 'btt': 'Back to Topic', 'btw': 'By the Way', 'b/c': 'Because', 'c&p': 'Copy and Paste', 'cu': 'See you', 'cys': 'Check your Settings', 'diy': 'Do it Yourself', 'dgmw': \"Don't get me wrong\", 'eobd': 'End of Business Day', 'eod': 'End of Day', 'eom': 'End of Message', 'eot': 'End of Text', 'faq': 'Frequently asked Questions', 'fack': 'Full Acknowledge', 'fka': 'Formerly known as', 'fwiw': \"For what it's Worth\", 'fyi': 'For your Information', 'ftw': 'Fuck the World', 'gtg': 'got to go', 'hf': 'Have fun', 'hth': 'Hope this Helps', 'idk': \"I Don't Know\", 'iirc': 'If I Remember Correctly', 'imho': 'In my Humble Opinion', 'imo': 'In my Opinion', 'imnsho': 'In my not so Humble Opinion', 'iow': 'In other Words', 'itt': 'In this Thread', 'jfyi': 'Just For your Information', 'lol': 'Laughing out loud', 'mmw': 'Mark my Words', 'n/a': 'Not Applicable', 'nan': 'Not a Number', 'nntr': 'No need to Reply', 'noob': 'Newbie', 'n00b': 'Newbie', 'noyb': 'None of your Business', 'nrn': 'No Reply Necessary', 'omg': 'Oh my God', 'op': 'Original Post', 'ot': 'Off Topic', 'otoh': 'On the other Hand', 'pebkac': 'Problem exists between Keyboard and Chair', 'pov': 'Point of View', 'rotfl': 'Rolling on the Floor Laughing', 'rsvp': 'Please reply', 'rtfm': 'Read the fine Manual', 'scnr': 'Sorry, could not Resist', 'sflr': 'Sorry, for late Reply', 'spoc': 'Single Point of Contact', 'tba': 'To be Announced', 'tbc': 'To be Continued', 'tia': 'Thanks in Advance', 'tgif': 'Thanks God, its Friday', 'thx': 'Thanks', 'tnx': 'Thanks', 'tq': 'Thank You', 'tyvm': 'Thank You Very Much', 'tyt': 'Take your Time', 'ttyl': 'Talk to you Later', 'w00t': 'Hooray', 'wfh': 'work from home', 'wfm': 'Works for Me', 'wrt': 'With Regard to', 'wth': 'What the Hell', 'wtf': 'What the Fuck', 'ymmd': 'You made my Day', 'ymmv': 'Your Mileage may vary', 'yam': 'Yet Another Meeting', 'icymi': 'In Case you missed it', '2moro': 'Tomorrow', '2nte': 'Tonight', 'aeap': 'As Early as Possible', 'alap': 'As Late as Possible', 'asap': 'As Soon as Possible', 'asl': 'Age, Sex, Location?', 'b3': 'Blah, Blah, Blah', 'b4yki': 'Before You Know it', 'bff': 'Best Friends Forever', 'bm&y': 'Between Me and You', 'brt': 'Be right There', 'btam': 'Be that as it May', 'c-p': 'Sleepy', 'ctn': 'Cannot talk now', 'cus': 'See You Soon', 'cwot': 'Complete Waste of Time', 'cyt': 'See You Tomorrow', 'e123': 'Easy', 'em?': 'Excuse Me?', 'f2f': 'Face to Face', 'fc': 'Fingers Crossed', 'foaf': 'Friend of a Friend', 'gr8': 'Great', 'hak': 'Hugs and Kisses', 'idc': \"I Don't Care\", 'ilu': 'I Love You', 'ily': 'I Love You', 'imu': 'I Miss You', 'irl': 'In Real Life', 'j/k': 'Just Kidding', 'jc': 'Just Checking', 'jtlyk': 'Just to Let You Know', 'kfy': 'Kiss for You', 'kmn': 'Kill Me Now', 'kpc': 'Keeping Parents Clueless', 'l8r': 'Later', 'mof': 'Male or Female', 'mtfbwy': 'May the Force be with You', 'myob': 'Mind Your Own Business', 'n-a-y-l': 'In a While', 'nayl': 'In a While', 'naz': 'Name, Address, ZIP', 'nc': 'No Comment', 'nimby': 'Not in my Backyard', 'nm': 'Never Mind', 'np': 'No Problem', 'nsfw': 'Not Safe for Work', 'ntim': 'Not that it Matters', 'nvm': 'Never Mind', 'oatus': 'On a totally Unrelated Subject', 'oic': 'Oh, I See', 'omw': 'On My Way', 'otl': 'Out to Lunch', 'otp': 'On the Phone', 'p911': 'Parent Alert', 'pal': 'Parents are Listening', 'paw': 'Parents are Watching', 'pir': 'Parent in Room', 'pos': 'Parent over Shoulder', 'prop': 'Proper Respect', 'props': 'Proper Respect', 'qt': 'Cutie', 'rn': 'Right Now', 'ru': 'Are You', 'sep': \"Someone else's Problem\", 'sitd': 'Still in the Dark', 'slap': 'Sounds like a Plan', 'smim': 'Send Me an Instant Message', 'so': 'Significant Other', 'tmi': 'Too Much Information', 'ur': 'Your', 'w8': 'Wait', 'wb': 'Welcome Back', 'wycm': 'Will You Call Me?', 'wywh': 'Wish You Were Here', 'xoxoxox': 'Hugs and Kisses', 'u': 'you'}\n",
            "--2019-05-04 18:07:10--  https://github.com/vCillusion/Social-Defender/blob/master/Data/Abbreviations/slang.txt?raw=true\n",
            "Resolving github.com (github.com)... 192.30.253.113\n",
            "Connecting to github.com (github.com)|192.30.253.113|:443... connected.\n",
            "HTTP request sent, awaiting response... 302 Found\n",
            "Location: https://github.com/vCillusion/Social-Defender/raw/master/Data/Abbreviations/slang.txt [following]\n",
            "--2019-05-04 18:07:10--  https://github.com/vCillusion/Social-Defender/raw/master/Data/Abbreviations/slang.txt\n",
            "Reusing existing connection to github.com:443.\n",
            "HTTP request sent, awaiting response... 302 Found\n",
            "Location: https://raw.githubusercontent.com/vCillusion/Social-Defender/master/Data/Abbreviations/slang.txt [following]\n",
            "--2019-05-04 18:07:10--  https://raw.githubusercontent.com/vCillusion/Social-Defender/master/Data/Abbreviations/slang.txt\n",
            "Resolving raw.githubusercontent.com (raw.githubusercontent.com)... 151.101.0.133, 151.101.64.133, 151.101.128.133, ...\n",
            "Connecting to raw.githubusercontent.com (raw.githubusercontent.com)|151.101.0.133|:443... connected.\n",
            "HTTP request sent, awaiting response... 200 OK\n",
            "Length: 3302 (3.2K) [text/plain]\n",
            "Saving to: ‘slang.txt?raw=true’\n",
            "\n",
            "slang.txt?raw=true  100%[===================>]   3.22K  --.-KB/s    in 0s      \n",
            "\n",
            "2019-05-04 18:07:10 (56.1 MB/s) - ‘slang.txt?raw=true’ saved [3302/3302]\n",
            "\n",
            "{'2f4u': 'Too Fast For You', '4yeo': 'For Your Eyes Only', 'fyeo': 'For Your Eyes Only', 'aamof': 'As a Matter of Fact', 'ack': 'Acknowledgment', 'afaik': 'As far as I know', 'afair': 'As far as I remember', 'afk': 'Away from Keyboard', 'al': 'annual leave', 'aka': 'Also known as', 'b2k': 'Back to Keyboard', 'brb': 'Be right Back', 'btk': 'Back to Keyboard', 'btt': 'Back to Topic', 'btw': 'By the Way', 'b/c': 'Because', 'c&p': 'Copy and Paste', 'cu': 'See you', 'cys': 'Check your Settings', 'diy': 'Do it Yourself', 'dgmw': \"Don't get me wrong\", 'eobd': 'End of Business Day', 'eod': 'End of Day', 'eom': 'End of Message', 'eot': 'End of Text', 'faq': 'Frequently asked Questions', 'fack': 'Full Acknowledge', 'fka': 'Formerly known as', 'fwiw': \"For what it's Worth\", 'fyi': 'For your Information', 'ftw': 'Fuck the World', 'gtg': 'got to go', 'hf': 'Have fun', 'hth': 'Hope this Helps', 'idk': \"I Don't Know\", 'iirc': 'If I Remember Correctly', 'imho': 'In my Humble Opinion', 'imo': 'In my Opinion', 'imnsho': 'In my not so Humble Opinion', 'iow': 'In other Words', 'itt': 'In this Thread', 'jfyi': 'Just For your Information', 'lol': 'Laughing out loud', 'mmw': 'Mark my Words', 'n/a': 'Not Applicable', 'nan': 'Not a Number', 'nntr': 'No need to Reply', 'noob': 'Newbie', 'n00b': 'Newbie', 'noyb': 'None of your Business', 'nrn': 'No Reply Necessary', 'omg': 'Oh my God', 'op': 'Original Post', 'ot': 'Off Topic', 'otoh': 'On the other Hand', 'pebkac': 'Problem exists between Keyboard and Chair', 'pov': 'Point of View', 'rotfl': 'Rolling on the Floor Laughing', 'rsvp': 'Please reply', 'rtfm': 'Read the fine Manual', 'scnr': 'Sorry, could not Resist', 'sflr': 'Sorry, for late Reply', 'spoc': 'Single Point of Contact', 'tba': 'To be Announced', 'tbc': 'To be Continued', 'tia': 'Thanks in Advance', 'tgif': 'Thanks God, its Friday', 'thx': 'Thanks', 'tnx': 'Thanks', 'tq': 'Thank You', 'tyvm': 'Thank You Very Much', 'tyt': 'Take your Time', 'ttyl': 'Talk to you Later', 'w00t': 'Hooray', 'wfh': 'work from home', 'wfm': 'Works for Me', 'wrt': 'With Regard to', 'wth': 'What the Hell', 'wtf': 'What the Fuck', 'ymmd': 'You made my Day', 'ymmv': 'Your Mileage may vary', 'yam': 'Yet Another Meeting', 'icymi': 'In Case you missed it', '2moro': 'Tomorrow', '2nte': 'Tonight', 'aeap': 'As Early as Possible', 'alap': 'As Late as Possible', 'asap': 'As Soon as Possible', 'asl': 'Age, Sex, Location?', 'b3': 'Blah, Blah, Blah', 'b4yki': 'Before You Know it', 'bff': 'Best Friends Forever', 'bm&y': 'Between Me and You', 'brt': 'Be right There', 'btam': 'Be that as it May', 'c-p': 'Sleepy', 'ctn': 'Cannot talk now', 'cus': 'See You Soon', 'cwot': 'Complete Waste of Time', 'cyt': 'See You Tomorrow', 'e123': 'Easy', 'em?': 'Excuse Me?', 'f2f': 'Face to Face', 'fc': 'Fingers Crossed', 'foaf': 'Friend of a Friend', 'gr8': 'Great', 'hak': 'Hugs and Kisses', 'idc': \"I Don't Care\", 'ilu': 'I Love You', 'ily': 'I Love You', 'imu': 'I Miss You', 'irl': 'In Real Life', 'j/k': 'Just Kidding', 'jc': 'Just Checking', 'jtlyk': 'Just to Let You Know', 'kfy': 'Kiss for You', 'kmn': 'Kill Me Now', 'kpc': 'Keeping Parents Clueless', 'l8r': 'Later', 'mof': 'Male or Female', 'mtfbwy': 'May the Force be with You', 'myob': 'Mind Your Own Business', 'n-a-y-l': 'In a While', 'nayl': 'In a While', 'naz': 'Name, Address, ZIP', 'nc': 'No Comment', 'nimby': 'Not in my Backyard', 'nm': 'Never Mind', 'np': 'No Problem', 'nsfw': 'Not Safe for Work', 'ntim': 'Not that it Matters', 'nvm': 'Never Mind', 'oatus': 'On a totally Unrelated Subject', 'oic': 'Oh, I See', 'omw': 'On My Way', 'otl': 'Out to Lunch', 'otp': 'On the Phone', 'p911': 'Parent Alert', 'pal': 'Parents are Listening', 'paw': 'Parents are Watching', 'pir': 'Parent in Room', 'pos': 'Parent over Shoulder', 'prop': 'Proper Respect', 'props': 'Proper Respect', 'qt': 'Cutie', 'rn': 'Right Now', 'ru': 'Are You', 'sep': \"Someone else's Problem\", 'sitd': 'Still in the Dark', 'slap': 'Sounds like a Plan', 'smim': 'Send Me an Instant Message', 'so': 'Significant Other', 'tmi': 'Too Much Information', 'ur': 'Your', 'w8': 'Wait', 'wb': 'Welcome Back', 'wycm': 'Will You Call Me?', 'wywh': 'Wish You Were Here', 'xoxoxox': 'Hugs and Kisses', 'u': 'you'}\n",
            "--2019-05-04 18:07:15--  https://github.com/vCillusion/Social-Defender/blob/master/Data/Abbreviations/slang.txt?raw=true\n",
            "Resolving github.com (github.com)... 192.30.253.113\n",
            "Connecting to github.com (github.com)|192.30.253.113|:443... connected.\n",
            "HTTP request sent, awaiting response... 302 Found\n",
            "Location: https://github.com/vCillusion/Social-Defender/raw/master/Data/Abbreviations/slang.txt [following]\n",
            "--2019-05-04 18:07:15--  https://github.com/vCillusion/Social-Defender/raw/master/Data/Abbreviations/slang.txt\n",
            "Reusing existing connection to github.com:443.\n",
            "HTTP request sent, awaiting response... 302 Found\n",
            "Location: https://raw.githubusercontent.com/vCillusion/Social-Defender/master/Data/Abbreviations/slang.txt [following]\n",
            "--2019-05-04 18:07:15--  https://raw.githubusercontent.com/vCillusion/Social-Defender/master/Data/Abbreviations/slang.txt\n",
            "Resolving raw.githubusercontent.com (raw.githubusercontent.com)... 151.101.0.133, 151.101.64.133, 151.101.128.133, ...\n",
            "Connecting to raw.githubusercontent.com (raw.githubusercontent.com)|151.101.0.133|:443... connected.\n",
            "HTTP request sent, awaiting response... 200 OK\n",
            "Length: 3302 (3.2K) [text/plain]\n",
            "Saving to: ‘slang.txt?raw=true’\n",
            "\n",
            "slang.txt?raw=true  100%[===================>]   3.22K  --.-KB/s    in 0s      \n",
            "\n",
            "2019-05-04 18:07:15 (54.6 MB/s) - ‘slang.txt?raw=true’ saved [3302/3302]\n",
            "\n",
            "{'2f4u': 'Too Fast For You', '4yeo': 'For Your Eyes Only', 'fyeo': 'For Your Eyes Only', 'aamof': 'As a Matter of Fact', 'ack': 'Acknowledgment', 'afaik': 'As far as I know', 'afair': 'As far as I remember', 'afk': 'Away from Keyboard', 'al': 'annual leave', 'aka': 'Also known as', 'b2k': 'Back to Keyboard', 'brb': 'Be right Back', 'btk': 'Back to Keyboard', 'btt': 'Back to Topic', 'btw': 'By the Way', 'b/c': 'Because', 'c&p': 'Copy and Paste', 'cu': 'See you', 'cys': 'Check your Settings', 'diy': 'Do it Yourself', 'dgmw': \"Don't get me wrong\", 'eobd': 'End of Business Day', 'eod': 'End of Day', 'eom': 'End of Message', 'eot': 'End of Text', 'faq': 'Frequently asked Questions', 'fack': 'Full Acknowledge', 'fka': 'Formerly known as', 'fwiw': \"For what it's Worth\", 'fyi': 'For your Information', 'ftw': 'Fuck the World', 'gtg': 'got to go', 'hf': 'Have fun', 'hth': 'Hope this Helps', 'idk': \"I Don't Know\", 'iirc': 'If I Remember Correctly', 'imho': 'In my Humble Opinion', 'imo': 'In my Opinion', 'imnsho': 'In my not so Humble Opinion', 'iow': 'In other Words', 'itt': 'In this Thread', 'jfyi': 'Just For your Information', 'lol': 'Laughing out loud', 'mmw': 'Mark my Words', 'n/a': 'Not Applicable', 'nan': 'Not a Number', 'nntr': 'No need to Reply', 'noob': 'Newbie', 'n00b': 'Newbie', 'noyb': 'None of your Business', 'nrn': 'No Reply Necessary', 'omg': 'Oh my God', 'op': 'Original Post', 'ot': 'Off Topic', 'otoh': 'On the other Hand', 'pebkac': 'Problem exists between Keyboard and Chair', 'pov': 'Point of View', 'rotfl': 'Rolling on the Floor Laughing', 'rsvp': 'Please reply', 'rtfm': 'Read the fine Manual', 'scnr': 'Sorry, could not Resist', 'sflr': 'Sorry, for late Reply', 'spoc': 'Single Point of Contact', 'tba': 'To be Announced', 'tbc': 'To be Continued', 'tia': 'Thanks in Advance', 'tgif': 'Thanks God, its Friday', 'thx': 'Thanks', 'tnx': 'Thanks', 'tq': 'Thank You', 'tyvm': 'Thank You Very Much', 'tyt': 'Take your Time', 'ttyl': 'Talk to you Later', 'w00t': 'Hooray', 'wfh': 'work from home', 'wfm': 'Works for Me', 'wrt': 'With Regard to', 'wth': 'What the Hell', 'wtf': 'What the Fuck', 'ymmd': 'You made my Day', 'ymmv': 'Your Mileage may vary', 'yam': 'Yet Another Meeting', 'icymi': 'In Case you missed it', '2moro': 'Tomorrow', '2nte': 'Tonight', 'aeap': 'As Early as Possible', 'alap': 'As Late as Possible', 'asap': 'As Soon as Possible', 'asl': 'Age, Sex, Location?', 'b3': 'Blah, Blah, Blah', 'b4yki': 'Before You Know it', 'bff': 'Best Friends Forever', 'bm&y': 'Between Me and You', 'brt': 'Be right There', 'btam': 'Be that as it May', 'c-p': 'Sleepy', 'ctn': 'Cannot talk now', 'cus': 'See You Soon', 'cwot': 'Complete Waste of Time', 'cyt': 'See You Tomorrow', 'e123': 'Easy', 'em?': 'Excuse Me?', 'f2f': 'Face to Face', 'fc': 'Fingers Crossed', 'foaf': 'Friend of a Friend', 'gr8': 'Great', 'hak': 'Hugs and Kisses', 'idc': \"I Don't Care\", 'ilu': 'I Love You', 'ily': 'I Love You', 'imu': 'I Miss You', 'irl': 'In Real Life', 'j/k': 'Just Kidding', 'jc': 'Just Checking', 'jtlyk': 'Just to Let You Know', 'kfy': 'Kiss for You', 'kmn': 'Kill Me Now', 'kpc': 'Keeping Parents Clueless', 'l8r': 'Later', 'mof': 'Male or Female', 'mtfbwy': 'May the Force be with You', 'myob': 'Mind Your Own Business', 'n-a-y-l': 'In a While', 'nayl': 'In a While', 'naz': 'Name, Address, ZIP', 'nc': 'No Comment', 'nimby': 'Not in my Backyard', 'nm': 'Never Mind', 'np': 'No Problem', 'nsfw': 'Not Safe for Work', 'ntim': 'Not that it Matters', 'nvm': 'Never Mind', 'oatus': 'On a totally Unrelated Subject', 'oic': 'Oh, I See', 'omw': 'On My Way', 'otl': 'Out to Lunch', 'otp': 'On the Phone', 'p911': 'Parent Alert', 'pal': 'Parents are Listening', 'paw': 'Parents are Watching', 'pir': 'Parent in Room', 'pos': 'Parent over Shoulder', 'prop': 'Proper Respect', 'props': 'Proper Respect', 'qt': 'Cutie', 'rn': 'Right Now', 'ru': 'Are You', 'sep': \"Someone else's Problem\", 'sitd': 'Still in the Dark', 'slap': 'Sounds like a Plan', 'smim': 'Send Me an Instant Message', 'so': 'Significant Other', 'tmi': 'Too Much Information', 'ur': 'Your', 'w8': 'Wait', 'wb': 'Welcome Back', 'wycm': 'Will You Call Me?', 'wywh': 'Wish You Were Here', 'xoxoxox': 'Hugs and Kisses', 'u': 'you'}\n",
            "--2019-05-04 18:07:20--  https://github.com/vCillusion/Social-Defender/blob/master/Data/Abbreviations/slang.txt?raw=true\n",
            "Resolving github.com (github.com)... 192.30.253.112\n",
            "Connecting to github.com (github.com)|192.30.253.112|:443... connected.\n",
            "HTTP request sent, awaiting response... 302 Found\n",
            "Location: https://github.com/vCillusion/Social-Defender/raw/master/Data/Abbreviations/slang.txt [following]\n",
            "--2019-05-04 18:07:20--  https://github.com/vCillusion/Social-Defender/raw/master/Data/Abbreviations/slang.txt\n",
            "Reusing existing connection to github.com:443.\n",
            "HTTP request sent, awaiting response... 302 Found\n",
            "Location: https://raw.githubusercontent.com/vCillusion/Social-Defender/master/Data/Abbreviations/slang.txt [following]\n",
            "--2019-05-04 18:07:20--  https://raw.githubusercontent.com/vCillusion/Social-Defender/master/Data/Abbreviations/slang.txt\n",
            "Resolving raw.githubusercontent.com (raw.githubusercontent.com)... 151.101.0.133, 151.101.64.133, 151.101.128.133, ...\n",
            "Connecting to raw.githubusercontent.com (raw.githubusercontent.com)|151.101.0.133|:443... connected.\n",
            "HTTP request sent, awaiting response... 200 OK\n",
            "Length: 3302 (3.2K) [text/plain]\n",
            "Saving to: ‘slang.txt?raw=true’\n",
            "\n",
            "slang.txt?raw=true  100%[===================>]   3.22K  --.-KB/s    in 0s      \n",
            "\n",
            "2019-05-04 18:07:20 (49.6 MB/s) - ‘slang.txt?raw=true’ saved [3302/3302]\n",
            "\n",
            "{'2f4u': 'Too Fast For You', '4yeo': 'For Your Eyes Only', 'fyeo': 'For Your Eyes Only', 'aamof': 'As a Matter of Fact', 'ack': 'Acknowledgment', 'afaik': 'As far as I know', 'afair': 'As far as I remember', 'afk': 'Away from Keyboard', 'al': 'annual leave', 'aka': 'Also known as', 'b2k': 'Back to Keyboard', 'brb': 'Be right Back', 'btk': 'Back to Keyboard', 'btt': 'Back to Topic', 'btw': 'By the Way', 'b/c': 'Because', 'c&p': 'Copy and Paste', 'cu': 'See you', 'cys': 'Check your Settings', 'diy': 'Do it Yourself', 'dgmw': \"Don't get me wrong\", 'eobd': 'End of Business Day', 'eod': 'End of Day', 'eom': 'End of Message', 'eot': 'End of Text', 'faq': 'Frequently asked Questions', 'fack': 'Full Acknowledge', 'fka': 'Formerly known as', 'fwiw': \"For what it's Worth\", 'fyi': 'For your Information', 'ftw': 'Fuck the World', 'gtg': 'got to go', 'hf': 'Have fun', 'hth': 'Hope this Helps', 'idk': \"I Don't Know\", 'iirc': 'If I Remember Correctly', 'imho': 'In my Humble Opinion', 'imo': 'In my Opinion', 'imnsho': 'In my not so Humble Opinion', 'iow': 'In other Words', 'itt': 'In this Thread', 'jfyi': 'Just For your Information', 'lol': 'Laughing out loud', 'mmw': 'Mark my Words', 'n/a': 'Not Applicable', 'nan': 'Not a Number', 'nntr': 'No need to Reply', 'noob': 'Newbie', 'n00b': 'Newbie', 'noyb': 'None of your Business', 'nrn': 'No Reply Necessary', 'omg': 'Oh my God', 'op': 'Original Post', 'ot': 'Off Topic', 'otoh': 'On the other Hand', 'pebkac': 'Problem exists between Keyboard and Chair', 'pov': 'Point of View', 'rotfl': 'Rolling on the Floor Laughing', 'rsvp': 'Please reply', 'rtfm': 'Read the fine Manual', 'scnr': 'Sorry, could not Resist', 'sflr': 'Sorry, for late Reply', 'spoc': 'Single Point of Contact', 'tba': 'To be Announced', 'tbc': 'To be Continued', 'tia': 'Thanks in Advance', 'tgif': 'Thanks God, its Friday', 'thx': 'Thanks', 'tnx': 'Thanks', 'tq': 'Thank You', 'tyvm': 'Thank You Very Much', 'tyt': 'Take your Time', 'ttyl': 'Talk to you Later', 'w00t': 'Hooray', 'wfh': 'work from home', 'wfm': 'Works for Me', 'wrt': 'With Regard to', 'wth': 'What the Hell', 'wtf': 'What the Fuck', 'ymmd': 'You made my Day', 'ymmv': 'Your Mileage may vary', 'yam': 'Yet Another Meeting', 'icymi': 'In Case you missed it', '2moro': 'Tomorrow', '2nte': 'Tonight', 'aeap': 'As Early as Possible', 'alap': 'As Late as Possible', 'asap': 'As Soon as Possible', 'asl': 'Age, Sex, Location?', 'b3': 'Blah, Blah, Blah', 'b4yki': 'Before You Know it', 'bff': 'Best Friends Forever', 'bm&y': 'Between Me and You', 'brt': 'Be right There', 'btam': 'Be that as it May', 'c-p': 'Sleepy', 'ctn': 'Cannot talk now', 'cus': 'See You Soon', 'cwot': 'Complete Waste of Time', 'cyt': 'See You Tomorrow', 'e123': 'Easy', 'em?': 'Excuse Me?', 'f2f': 'Face to Face', 'fc': 'Fingers Crossed', 'foaf': 'Friend of a Friend', 'gr8': 'Great', 'hak': 'Hugs and Kisses', 'idc': \"I Don't Care\", 'ilu': 'I Love You', 'ily': 'I Love You', 'imu': 'I Miss You', 'irl': 'In Real Life', 'j/k': 'Just Kidding', 'jc': 'Just Checking', 'jtlyk': 'Just to Let You Know', 'kfy': 'Kiss for You', 'kmn': 'Kill Me Now', 'kpc': 'Keeping Parents Clueless', 'l8r': 'Later', 'mof': 'Male or Female', 'mtfbwy': 'May the Force be with You', 'myob': 'Mind Your Own Business', 'n-a-y-l': 'In a While', 'nayl': 'In a While', 'naz': 'Name, Address, ZIP', 'nc': 'No Comment', 'nimby': 'Not in my Backyard', 'nm': 'Never Mind', 'np': 'No Problem', 'nsfw': 'Not Safe for Work', 'ntim': 'Not that it Matters', 'nvm': 'Never Mind', 'oatus': 'On a totally Unrelated Subject', 'oic': 'Oh, I See', 'omw': 'On My Way', 'otl': 'Out to Lunch', 'otp': 'On the Phone', 'p911': 'Parent Alert', 'pal': 'Parents are Listening', 'paw': 'Parents are Watching', 'pir': 'Parent in Room', 'pos': 'Parent over Shoulder', 'prop': 'Proper Respect', 'props': 'Proper Respect', 'qt': 'Cutie', 'rn': 'Right Now', 'ru': 'Are You', 'sep': \"Someone else's Problem\", 'sitd': 'Still in the Dark', 'slap': 'Sounds like a Plan', 'smim': 'Send Me an Instant Message', 'so': 'Significant Other', 'tmi': 'Too Much Information', 'ur': 'Your', 'w8': 'Wait', 'wb': 'Welcome Back', 'wycm': 'Will You Call Me?', 'wywh': 'Wish You Were Here', 'xoxoxox': 'Hugs and Kisses', 'u': 'you'}\n",
            "--2019-05-04 18:07:26--  https://github.com/vCillusion/Social-Defender/blob/master/Data/Abbreviations/slang.txt?raw=true\n",
            "Resolving github.com (github.com)... 192.30.253.112\n",
            "Connecting to github.com (github.com)|192.30.253.112|:443... connected.\n",
            "HTTP request sent, awaiting response... 302 Found\n",
            "Location: https://github.com/vCillusion/Social-Defender/raw/master/Data/Abbreviations/slang.txt [following]\n",
            "--2019-05-04 18:07:26--  https://github.com/vCillusion/Social-Defender/raw/master/Data/Abbreviations/slang.txt\n",
            "Reusing existing connection to github.com:443.\n",
            "HTTP request sent, awaiting response... 302 Found\n",
            "Location: https://raw.githubusercontent.com/vCillusion/Social-Defender/master/Data/Abbreviations/slang.txt [following]\n",
            "--2019-05-04 18:07:26--  https://raw.githubusercontent.com/vCillusion/Social-Defender/master/Data/Abbreviations/slang.txt\n",
            "Resolving raw.githubusercontent.com (raw.githubusercontent.com)... 151.101.0.133, 151.101.64.133, 151.101.128.133, ...\n",
            "Connecting to raw.githubusercontent.com (raw.githubusercontent.com)|151.101.0.133|:443... connected.\n",
            "HTTP request sent, awaiting response... 200 OK\n",
            "Length: 3302 (3.2K) [text/plain]\n",
            "Saving to: ‘slang.txt?raw=true’\n",
            "\n",
            "slang.txt?raw=true  100%[===================>]   3.22K  --.-KB/s    in 0s      \n",
            "\n",
            "2019-05-04 18:07:26 (52.2 MB/s) - ‘slang.txt?raw=true’ saved [3302/3302]\n",
            "\n",
            "{'2f4u': 'Too Fast For You', '4yeo': 'For Your Eyes Only', 'fyeo': 'For Your Eyes Only', 'aamof': 'As a Matter of Fact', 'ack': 'Acknowledgment', 'afaik': 'As far as I know', 'afair': 'As far as I remember', 'afk': 'Away from Keyboard', 'al': 'annual leave', 'aka': 'Also known as', 'b2k': 'Back to Keyboard', 'brb': 'Be right Back', 'btk': 'Back to Keyboard', 'btt': 'Back to Topic', 'btw': 'By the Way', 'b/c': 'Because', 'c&p': 'Copy and Paste', 'cu': 'See you', 'cys': 'Check your Settings', 'diy': 'Do it Yourself', 'dgmw': \"Don't get me wrong\", 'eobd': 'End of Business Day', 'eod': 'End of Day', 'eom': 'End of Message', 'eot': 'End of Text', 'faq': 'Frequently asked Questions', 'fack': 'Full Acknowledge', 'fka': 'Formerly known as', 'fwiw': \"For what it's Worth\", 'fyi': 'For your Information', 'ftw': 'Fuck the World', 'gtg': 'got to go', 'hf': 'Have fun', 'hth': 'Hope this Helps', 'idk': \"I Don't Know\", 'iirc': 'If I Remember Correctly', 'imho': 'In my Humble Opinion', 'imo': 'In my Opinion', 'imnsho': 'In my not so Humble Opinion', 'iow': 'In other Words', 'itt': 'In this Thread', 'jfyi': 'Just For your Information', 'lol': 'Laughing out loud', 'mmw': 'Mark my Words', 'n/a': 'Not Applicable', 'nan': 'Not a Number', 'nntr': 'No need to Reply', 'noob': 'Newbie', 'n00b': 'Newbie', 'noyb': 'None of your Business', 'nrn': 'No Reply Necessary', 'omg': 'Oh my God', 'op': 'Original Post', 'ot': 'Off Topic', 'otoh': 'On the other Hand', 'pebkac': 'Problem exists between Keyboard and Chair', 'pov': 'Point of View', 'rotfl': 'Rolling on the Floor Laughing', 'rsvp': 'Please reply', 'rtfm': 'Read the fine Manual', 'scnr': 'Sorry, could not Resist', 'sflr': 'Sorry, for late Reply', 'spoc': 'Single Point of Contact', 'tba': 'To be Announced', 'tbc': 'To be Continued', 'tia': 'Thanks in Advance', 'tgif': 'Thanks God, its Friday', 'thx': 'Thanks', 'tnx': 'Thanks', 'tq': 'Thank You', 'tyvm': 'Thank You Very Much', 'tyt': 'Take your Time', 'ttyl': 'Talk to you Later', 'w00t': 'Hooray', 'wfh': 'work from home', 'wfm': 'Works for Me', 'wrt': 'With Regard to', 'wth': 'What the Hell', 'wtf': 'What the Fuck', 'ymmd': 'You made my Day', 'ymmv': 'Your Mileage may vary', 'yam': 'Yet Another Meeting', 'icymi': 'In Case you missed it', '2moro': 'Tomorrow', '2nte': 'Tonight', 'aeap': 'As Early as Possible', 'alap': 'As Late as Possible', 'asap': 'As Soon as Possible', 'asl': 'Age, Sex, Location?', 'b3': 'Blah, Blah, Blah', 'b4yki': 'Before You Know it', 'bff': 'Best Friends Forever', 'bm&y': 'Between Me and You', 'brt': 'Be right There', 'btam': 'Be that as it May', 'c-p': 'Sleepy', 'ctn': 'Cannot talk now', 'cus': 'See You Soon', 'cwot': 'Complete Waste of Time', 'cyt': 'See You Tomorrow', 'e123': 'Easy', 'em?': 'Excuse Me?', 'f2f': 'Face to Face', 'fc': 'Fingers Crossed', 'foaf': 'Friend of a Friend', 'gr8': 'Great', 'hak': 'Hugs and Kisses', 'idc': \"I Don't Care\", 'ilu': 'I Love You', 'ily': 'I Love You', 'imu': 'I Miss You', 'irl': 'In Real Life', 'j/k': 'Just Kidding', 'jc': 'Just Checking', 'jtlyk': 'Just to Let You Know', 'kfy': 'Kiss for You', 'kmn': 'Kill Me Now', 'kpc': 'Keeping Parents Clueless', 'l8r': 'Later', 'mof': 'Male or Female', 'mtfbwy': 'May the Force be with You', 'myob': 'Mind Your Own Business', 'n-a-y-l': 'In a While', 'nayl': 'In a While', 'naz': 'Name, Address, ZIP', 'nc': 'No Comment', 'nimby': 'Not in my Backyard', 'nm': 'Never Mind', 'np': 'No Problem', 'nsfw': 'Not Safe for Work', 'ntim': 'Not that it Matters', 'nvm': 'Never Mind', 'oatus': 'On a totally Unrelated Subject', 'oic': 'Oh, I See', 'omw': 'On My Way', 'otl': 'Out to Lunch', 'otp': 'On the Phone', 'p911': 'Parent Alert', 'pal': 'Parents are Listening', 'paw': 'Parents are Watching', 'pir': 'Parent in Room', 'pos': 'Parent over Shoulder', 'prop': 'Proper Respect', 'props': 'Proper Respect', 'qt': 'Cutie', 'rn': 'Right Now', 'ru': 'Are You', 'sep': \"Someone else's Problem\", 'sitd': 'Still in the Dark', 'slap': 'Sounds like a Plan', 'smim': 'Send Me an Instant Message', 'so': 'Significant Other', 'tmi': 'Too Much Information', 'ur': 'Your', 'w8': 'Wait', 'wb': 'Welcome Back', 'wycm': 'Will You Call Me?', 'wywh': 'Wish You Were Here', 'xoxoxox': 'Hugs and Kisses', 'u': 'you'}\n",
            "0                                             🦋🦋🦋❤️\n",
            "1    Pdhane do didi ! 😫 Semester exam chl rhe hai !\n",
            "2                                 @dishapatani 🔥🔥🔥👈\n",
            "3           @dishapatani you are always fabulous ❤️\n",
            "4             @dishapatani mbd radisson blu delhi..\n",
            "Name: Comments Text, dtype: object\n"
          ],
          "name": "stdout"
        }
      ]
    },
    {
      "cell_type": "markdown",
      "metadata": {
        "id": "J0cWG1hmCAzr",
        "colab_type": "text"
      },
      "source": [
        "#### English Stop words using nltk"
      ]
    },
    {
      "cell_type": "code",
      "metadata": {
        "id": "pJSjwGHM5nA9",
        "colab_type": "code",
        "outputId": "40d32efe-cafc-4656-91fb-18e05626ca8e",
        "colab": {
          "base_uri": "https://localhost:8080/",
          "height": 89
        }
      },
      "source": [
        "import nltk\n",
        "nltk.download('stopwords')\n",
        "from nltk.corpus import stopwords\n",
        "stop_english = stopwords.words(\"english\")\n",
        "print(stop_english)"
      ],
      "execution_count": 39,
      "outputs": [
        {
          "output_type": "stream",
          "text": [
            "[nltk_data] Downloading package stopwords to /root/nltk_data...\n",
            "[nltk_data]   Package stopwords is already up-to-date!\n",
            "['i', 'me', 'my', 'myself', 'we', 'our', 'ours', 'ourselves', 'you', \"you're\", \"you've\", \"you'll\", \"you'd\", 'your', 'yours', 'yourself', 'yourselves', 'he', 'him', 'his', 'himself', 'she', \"she's\", 'her', 'hers', 'herself', 'it', \"it's\", 'its', 'itself', 'they', 'them', 'their', 'theirs', 'themselves', 'what', 'which', 'who', 'whom', 'this', 'that', \"that'll\", 'these', 'those', 'am', 'is', 'are', 'was', 'were', 'be', 'been', 'being', 'have', 'has', 'had', 'having', 'do', 'does', 'did', 'doing', 'a', 'an', 'the', 'and', 'but', 'if', 'or', 'because', 'as', 'until', 'while', 'of', 'at', 'by', 'for', 'with', 'about', 'against', 'between', 'into', 'through', 'during', 'before', 'after', 'above', 'below', 'to', 'from', 'up', 'down', 'in', 'out', 'on', 'off', 'over', 'under', 'again', 'further', 'then', 'once', 'here', 'there', 'when', 'where', 'why', 'how', 'all', 'any', 'both', 'each', 'few', 'more', 'most', 'other', 'some', 'such', 'no', 'nor', 'not', 'only', 'own', 'same', 'so', 'than', 'too', 'very', 's', 't', 'can', 'will', 'just', 'don', \"don't\", 'should', \"should've\", 'now', 'd', 'll', 'm', 'o', 're', 've', 'y', 'ain', 'aren', \"aren't\", 'couldn', \"couldn't\", 'didn', \"didn't\", 'doesn', \"doesn't\", 'hadn', \"hadn't\", 'hasn', \"hasn't\", 'haven', \"haven't\", 'isn', \"isn't\", 'ma', 'mightn', \"mightn't\", 'mustn', \"mustn't\", 'needn', \"needn't\", 'shan', \"shan't\", 'shouldn', \"shouldn't\", 'wasn', \"wasn't\", 'weren', \"weren't\", 'won', \"won't\", 'wouldn', \"wouldn't\"]\n"
          ],
          "name": "stdout"
        }
      ]
    },
    {
      "cell_type": "markdown",
      "metadata": {
        "id": "DuOOiT0TCGYy",
        "colab_type": "text"
      },
      "source": [
        "#### Hindi Stop words using [Hinglish NLP](https://github.com/TrigonaMinima/HinglishNLP)"
      ]
    },
    {
      "cell_type": "code",
      "metadata": {
        "id": "TI_pKEeZ4sU2",
        "colab_type": "code",
        "outputId": "9f06539b-d53e-48f2-a130-19124d1d6bad",
        "colab": {
          "base_uri": "https://localhost:8080/",
          "height": 1057
        }
      },
      "source": [
        "# Load Hindi Stopwords\n",
        "fileUrl = 'https://github.com/vCillusion/Social-Defender/blob/master/Data/Stop%20Words/stop_hindi.txt?raw=true'\n",
        "fileName = 'stop_hindi.txt'\n",
        "stop_hindi = readFileFromUrlSplit (fileUrl, fileName)\n",
        "# print(stop_hindi)\n",
        "\n",
        "# Load Hinglish Stopwords\n",
        "fileUrl = 'https://github.com/vCillusion/Social-Defender/blob/master/Data/Stop%20Words/stop_hinglish.txt?raw=true'\n",
        "fileName = 'stop_hinglish.txt'\n",
        "stop_hinglish = readFileFromUrlSplit (fileUrl, fileName)\n",
        "# print(stop_hinglish)\n",
        "\n",
        "# Load Shorthands Stopwords\n",
        "fileUrl = 'https://github.com/vCillusion/Social-Defender/blob/master/Data/Stop%20Words/stop_shorthands.txt?raw=true'\n",
        "fileName = 'stop_shorthands.txt'\n",
        "stop_shorthands = readFileFromUrlSplit (fileUrl, fileName)\n",
        "# print(stop_shorthands)"
      ],
      "execution_count": 38,
      "outputs": [
        {
          "output_type": "stream",
          "text": [
            "--2019-05-04 18:10:09--  https://github.com/vCillusion/Social-Defender/blob/master/Data/Stop%20Words/stop_hindi.txt?raw=true\n",
            "Resolving github.com (github.com)... 192.30.253.113\n",
            "Connecting to github.com (github.com)|192.30.253.113|:443... connected.\n",
            "HTTP request sent, awaiting response... 302 Found\n",
            "Location: https://github.com/vCillusion/Social-Defender/raw/master/Data/Stop%20Words/stop_hindi.txt [following]\n",
            "--2019-05-04 18:10:09--  https://github.com/vCillusion/Social-Defender/raw/master/Data/Stop%20Words/stop_hindi.txt\n",
            "Reusing existing connection to github.com:443.\n",
            "HTTP request sent, awaiting response... 302 Found\n",
            "Location: https://raw.githubusercontent.com/vCillusion/Social-Defender/master/Data/Stop%20Words/stop_hindi.txt [following]\n",
            "--2019-05-04 18:10:09--  https://raw.githubusercontent.com/vCillusion/Social-Defender/master/Data/Stop%20Words/stop_hindi.txt\n",
            "Resolving raw.githubusercontent.com (raw.githubusercontent.com)... 151.101.0.133, 151.101.64.133, 151.101.128.133, ...\n",
            "Connecting to raw.githubusercontent.com (raw.githubusercontent.com)|151.101.0.133|:443... connected.\n",
            "HTTP request sent, awaiting response... 200 OK\n",
            "Length: 1704 (1.7K) [text/plain]\n",
            "Saving to: ‘stop_hindi.txt?raw=true’\n",
            "\n",
            "\rstop_hindi.txt?raw=   0%[                    ]       0  --.-KB/s               \rstop_hindi.txt?raw= 100%[===================>]   1.66K  --.-KB/s    in 0s      \n",
            "\n",
            "2019-05-04 18:10:10 (318 MB/s) - ‘stop_hindi.txt?raw=true’ saved [1704/1704]\n",
            "\n",
            "--2019-05-04 18:10:15--  https://github.com/vCillusion/Social-Defender/blob/master/Data/Stop%20Words/stop_hinglish.txt?raw=true\n",
            "Resolving github.com (github.com)... 192.30.253.113\n",
            "Connecting to github.com (github.com)|192.30.253.113|:443... connected.\n",
            "HTTP request sent, awaiting response... 302 Found\n",
            "Location: https://github.com/vCillusion/Social-Defender/raw/master/Data/Stop%20Words/stop_hinglish.txt [following]\n",
            "--2019-05-04 18:10:15--  https://github.com/vCillusion/Social-Defender/raw/master/Data/Stop%20Words/stop_hinglish.txt\n",
            "Reusing existing connection to github.com:443.\n",
            "HTTP request sent, awaiting response... 302 Found\n",
            "Location: https://raw.githubusercontent.com/vCillusion/Social-Defender/master/Data/Stop%20Words/stop_hinglish.txt [following]\n",
            "--2019-05-04 18:10:15--  https://raw.githubusercontent.com/vCillusion/Social-Defender/master/Data/Stop%20Words/stop_hinglish.txt\n",
            "Resolving raw.githubusercontent.com (raw.githubusercontent.com)... 151.101.0.133, 151.101.64.133, 151.101.128.133, ...\n",
            "Connecting to raw.githubusercontent.com (raw.githubusercontent.com)|151.101.0.133|:443... connected.\n",
            "HTTP request sent, awaiting response... 200 OK\n",
            "Length: 5958 (5.8K) [text/plain]\n",
            "Saving to: ‘stop_hinglish.txt?raw=true’\n",
            "\n",
            "stop_hinglish.txt?r 100%[===================>]   5.82K  --.-KB/s    in 0s      \n",
            "\n",
            "2019-05-04 18:10:15 (38.7 MB/s) - ‘stop_hinglish.txt?raw=true’ saved [5958/5958]\n",
            "\n",
            "--2019-05-04 18:10:20--  https://github.com/vCillusion/Social-Defender/blob/master/Data/Stop%20Words/stop_shorthands.txt?raw=true\n",
            "Resolving github.com (github.com)... 192.30.253.112\n",
            "Connecting to github.com (github.com)|192.30.253.112|:443... connected.\n",
            "HTTP request sent, awaiting response... 302 Found\n",
            "Location: https://github.com/vCillusion/Social-Defender/raw/master/Data/Stop%20Words/stop_shorthands.txt [following]\n",
            "--2019-05-04 18:10:20--  https://github.com/vCillusion/Social-Defender/raw/master/Data/Stop%20Words/stop_shorthands.txt\n",
            "Reusing existing connection to github.com:443.\n",
            "HTTP request sent, awaiting response... 302 Found\n",
            "Location: https://raw.githubusercontent.com/vCillusion/Social-Defender/master/Data/Stop%20Words/stop_shorthands.txt [following]\n",
            "--2019-05-04 18:10:20--  https://raw.githubusercontent.com/vCillusion/Social-Defender/master/Data/Stop%20Words/stop_shorthands.txt\n",
            "Resolving raw.githubusercontent.com (raw.githubusercontent.com)... 151.101.0.133, 151.101.64.133, 151.101.128.133, ...\n",
            "Connecting to raw.githubusercontent.com (raw.githubusercontent.com)|151.101.0.133|:443... connected.\n",
            "HTTP request sent, awaiting response... 200 OK\n",
            "Length: 1608 (1.6K) [text/plain]\n",
            "Saving to: ‘stop_shorthands.txt?raw=true’\n",
            "\n",
            "stop_shorthands.txt 100%[===================>]   1.57K  --.-KB/s    in 0s      \n",
            "\n",
            "2019-05-04 18:10:20 (180 MB/s) - ‘stop_shorthands.txt?raw=true’ saved [1608/1608]\n",
            "\n"
          ],
          "name": "stdout"
        }
      ]
    },
    {
      "cell_type": "markdown",
      "metadata": {
        "id": "-XKDLZI8CU-K",
        "colab_type": "text"
      },
      "source": [
        "#### Using the stop words"
      ]
    },
    {
      "cell_type": "code",
      "metadata": {
        "id": "nQsQpNx2CXIW",
        "colab_type": "code",
        "outputId": "81dafb3b-bd36-469b-ead0-9ccbfc28eb0a",
        "colab": {
          "base_uri": "https://localhost:8080/",
          "height": 138
        }
      },
      "source": [
        "stop = []\n",
        "stop.extend(stop_hindi)\n",
        "stop.extend(stop_english)\n",
        "stop.extend(stop_hinglish)\n",
        "stop.extend(stop_shorthands)\n",
        "print('Remove Stop words')\n",
        "short_data.loc[:, 'Comments Text'].apply(\n",
        "    lambda comment: ' '.join([word for word in comment.split() \n",
        "                              if word not in \n",
        "                              (stop)]))\n",
        "print(short_data['Comments Text'])\n"
      ],
      "execution_count": 51,
      "outputs": [
        {
          "output_type": "stream",
          "text": [
            "Remove Stop words\n",
            "0                                    🦋🦋🦋❤️\n",
            "1      Pdhane didi ! 😫 Semester exam chl !\n",
            "2                        @dishapatani 🔥🔥🔥👈\n",
            "3                 @dishapatani fabulous ❤️\n",
            "4    @dishapatani mbd radisson blu delhi..\n",
            "Name: Comments Text, dtype: object\n"
          ],
          "name": "stdout"
        }
      ]
    },
    {
      "cell_type": "code",
      "metadata": {
        "id": "2m5igm5KNAI5",
        "colab_type": "code",
        "colab": {}
      },
      "source": [
        ""
      ],
      "execution_count": 0,
      "outputs": []
    }
  ]
}