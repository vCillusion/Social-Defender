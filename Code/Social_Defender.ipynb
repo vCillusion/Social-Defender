{
  "nbformat": 4,
  "nbformat_minor": 0,
  "metadata": {
    "colab": {
      "name": "Social Defender",
      "version": "0.3.2",
      "provenance": [],
      "include_colab_link": true
    },
    "kernelspec": {
      "name": "python3",
      "display_name": "Python 3"
    }
  },
  "cells": [
    {
      "cell_type": "markdown",
      "metadata": {
        "id": "view-in-github",
        "colab_type": "text"
      },
      "source": [
        "<a href=\"https://colab.research.google.com/github/vCillusion/Social-Defender/blob/master/Code/Social_Defender.ipynb\" target=\"_parent\"><img src=\"https://colab.research.google.com/assets/colab-badge.svg\" alt=\"Open In Colab\"/></a>"
      ]
    },
    {
      "cell_type": "markdown",
      "metadata": {
        "id": "0uY8h4oPzd1S",
        "colab_type": "text"
      },
      "source": [
        "# Social Defender\n",
        "Social Defender is an idea to use the machine algorithm to perform sentiment analysis and create a positive outlook for the users, by using customized views and tagging content. "
      ]
    },
    {
      "cell_type": "markdown",
      "metadata": {
        "id": "NueC4aMF1BFi",
        "colab_type": "text"
      },
      "source": [
        "## Hinglish Sentiment Analysis\n",
        "The first target of the application is to learn and perform sentiment analysis model to categorize Hinglish data. "
      ]
    },
    {
      "cell_type": "markdown",
      "metadata": {
        "id": "TS4pd5mB5b_0",
        "colab_type": "text"
      },
      "source": [
        "### Analyzing the Dataset\n",
        "The dataset is loaded using the Pandas library."
      ]
    },
    {
      "cell_type": "code",
      "metadata": {
        "id": "YU19nB17FlFV",
        "colab_type": "code",
        "outputId": "ef1a7b4d-3de9-4258-d562-00fa07423dc6",
        "colab": {
          "base_uri": "https://localhost:8080/",
          "height": 1000
        }
      },
      "source": [
        "import pandas as pd\n",
        "import io\n",
        "df = pd.read_csv('https://raw.githubusercontent.com/vCillusion/Social-Defender/master/Data/Emotions/Emotions_Data.csv')\n",
        "print('Basic Information')\n",
        "print(df.info())\n",
        "print(df.shape)\n",
        "print('Head and Tail of data')\n",
        "print(df.head())\n",
        "print(df.tail())\n",
        "# Plot to get a gist of frequency and type of values\n",
        "df['Emotions Value'].plot(kind='hist')"
      ],
      "execution_count": 0,
      "outputs": [
        {
          "output_type": "stream",
          "text": [
            "Basic Information\n",
            "<class 'pandas.core.frame.DataFrame'>\n",
            "RangeIndex: 126 entries, 0 to 125\n",
            "Data columns (total 7 columns):\n",
            "Comments Text     126 non-null object\n",
            "Feelings Text     126 non-null object\n",
            "Emotions Text     126 non-null object\n",
            "Context Text      126 non-null object\n",
            "Feelings Value    126 non-null int64\n",
            "Emotions Value    126 non-null int64\n",
            "Context Value     126 non-null int64\n",
            "dtypes: int64(3), object(4)\n",
            "memory usage: 7.0+ KB\n",
            "None\n",
            "(126, 7)\n",
            "Head and Tail of data\n",
            "                                    Comments Text Feelings Text Emotions Text  \\\n",
            "0                                           🦋🦋🦋❤️      Positive        Loving   \n",
            "1  Pdhane do didi ! 😫 Semester exam chl rhe hai !      Negative       Sarcasm   \n",
            "2                               @dishapatani 🔥🔥🔥👈      Positive    Compliment   \n",
            "3           @dishapatani u are always fabulous ❤️      Positive    Compliment   \n",
            "4           @dishapatani mbd radisson blu delhi..       Neutral   Information   \n",
            "\n",
            "  Context Text  Feelings Value  Emotions Value  Context Value  \n",
            "0    Socialist               3               5              5  \n",
            "1    Socialist               1               8              5  \n",
            "2    Socialist               3               2              5  \n",
            "3    Socialist               3               2              5  \n",
            "4    Socialist               2               3              5  \n",
            "                                         Comments Text Feelings Text  \\\n",
            "121  @BuddhadevMurum1 @ColorsTV Madarchod shilpa ra...      Negative   \n",
            "122  @Shujaatsays Madarchod , bhenchod bsdk bhikhar...      Negative   \n",
            "123  @rssurjewala Abe chup chutye ye to congress bh...      Negative   \n",
            "124  @RavishKumar_ @shuklapinku @rajnathsingh @BSF_...      Negative   \n",
            "125  Bhak Machod Mullo Ke Abbu @bewak_sanki543 @mil...      Negative   \n",
            "\n",
            "    Emotions Text Context Text  Feelings Value  Emotions Value  Context Value  \n",
            "121       Abusive    Socialist               1               1              5  \n",
            "122       Abusive       Racist               1               1              2  \n",
            "123       Abusive    Socialist               1               1              5  \n",
            "124       Abusive    Socialist               1               1              5  \n",
            "125       Abusive       Racist               1               1              2  \n"
          ],
          "name": "stdout"
        },
        {
          "output_type": "execute_result",
          "data": {
            "text/plain": [
              "<matplotlib.axes._subplots.AxesSubplot at 0x7f7618c57668>"
            ]
          },
          "metadata": {
            "tags": []
          },
          "execution_count": 22
        },
        {
          "output_type": "display_data",
          "data": {
            "image/png": "[encoded data removed]",
            "text/plain": [
              "<Figure size 432x288 with 1 Axes>"
            ]
          },
          "metadata": {
            "tags": []
          }
        }
      ]
    },
    {
      "cell_type": "markdown",
      "metadata": {
        "id": "IZzYon1p5mkw",
        "colab_type": "text"
      },
      "source": [
        "### Processing the data\n",
        "We might want to clean the data to get better results. We could remove the stop words, most common words to understand the context better."
      ]
    },
    {
      "cell_type": "markdown",
      "metadata": {
        "id": "J0cWG1hmCAzr",
        "colab_type": "text"
      },
      "source": [
        "#### English Stop words using nltk"
      ]
    },
    {
      "cell_type": "code",
      "metadata": {
        "id": "pJSjwGHM5nA9",
        "colab_type": "code",
        "outputId": "9eff346f-51e4-457e-8cb7-283791081ad3",
        "colab": {
          "base_uri": "https://localhost:8080/",
          "height": 88
        }
      },
      "source": [
        "import nltk\n",
        "nltk.download('stopwords')\n",
        "from nltk.corpus import stopwords\n",
        "stop_english = stopwords.words(\"english\")\n",
        "print(stop_english)"
      ],
      "execution_count": 0,
      "outputs": [
        {
          "output_type": "stream",
          "text": [
            "[nltk_data] Downloading package stopwords to /root/nltk_data...\n",
            "[nltk_data]   Package stopwords is already up-to-date!\n",
            "['i', 'me', 'my', 'myself', 'we', 'our', 'ours', 'ourselves', 'you', \"you're\", \"you've\", \"you'll\", \"you'd\", 'your', 'yours', 'yourself', 'yourselves', 'he', 'him', 'his', 'himself', 'she', \"she's\", 'her', 'hers', 'herself', 'it', \"it's\", 'its', 'itself', 'they', 'them', 'their', 'theirs', 'themselves', 'what', 'which', 'who', 'whom', 'this', 'that', \"that'll\", 'these', 'those', 'am', 'is', 'are', 'was', 'were', 'be', 'been', 'being', 'have', 'has', 'had', 'having', 'do', 'does', 'did', 'doing', 'a', 'an', 'the', 'and', 'but', 'if', 'or', 'because', 'as', 'until', 'while', 'of', 'at', 'by', 'for', 'with', 'about', 'against', 'between', 'into', 'through', 'during', 'before', 'after', 'above', 'below', 'to', 'from', 'up', 'down', 'in', 'out', 'on', 'off', 'over', 'under', 'again', 'further', 'then', 'once', 'here', 'there', 'when', 'where', 'why', 'how', 'all', 'any', 'both', 'each', 'few', 'more', 'most', 'other', 'some', 'such', 'no', 'nor', 'not', 'only', 'own', 'same', 'so', 'than', 'too', 'very', 's', 't', 'can', 'will', 'just', 'don', \"don't\", 'should', \"should've\", 'now', 'd', 'll', 'm', 'o', 're', 've', 'y', 'ain', 'aren', \"aren't\", 'couldn', \"couldn't\", 'didn', \"didn't\", 'doesn', \"doesn't\", 'hadn', \"hadn't\", 'hasn', \"hasn't\", 'haven', \"haven't\", 'isn', \"isn't\", 'ma', 'mightn', \"mightn't\", 'mustn', \"mustn't\", 'needn', \"needn't\", 'shan', \"shan't\", 'shouldn', \"shouldn't\", 'wasn', \"wasn't\", 'weren', \"weren't\", 'won', \"won't\", 'wouldn', \"wouldn't\"]\n"
          ],
          "name": "stdout"
        }
      ]
    },
    {
      "cell_type": "markdown",
      "metadata": {
        "id": "DuOOiT0TCGYy",
        "colab_type": "text"
      },
      "source": [
        "#### Hindi Stop words using [Hinglish NLP](https://github.com/TrigonaMinima/HinglishNLP)"
      ]
    },
    {
      "cell_type": "code",
      "metadata": {
        "id": "TI_pKEeZ4sU2",
        "colab_type": "code",
        "outputId": "34b7fe4f-b024-43ce-ac36-6dd470fa878d",
        "colab": {
          "base_uri": "https://localhost:8080/",
          "height": 1037
        }
      },
      "source": [
        "import os\n",
        "def loadFileFromUrl ( url, filename, override = True ) :\n",
        "  exists = os.path.isfile(filename)\n",
        "  if not exists or override:\n",
        "    # raw=true is important so you download the file rather than the webpage.\n",
        "    !wget $url\n",
        "    # rename the file\n",
        "    !mv $filename\\?raw\\=true $filename\n",
        "  return filename\n",
        "\n",
        "def getFile ( filename ) :\n",
        "  file = open(filename, 'r')\n",
        "  return file\n",
        "\n",
        "def readFile ( filename ) :\n",
        "  return getFile(filename).read()\n",
        "\n",
        "def getFileFromUrl ( url, filename, override = True ) :\n",
        "  return getFile(loadFileFromUrl(url, filename, override ))\n",
        "\n",
        "def readFileFromUrl ( url, filename, override = True ) :\n",
        "  return readFile(loadFileFromUrl(url, filename, override))\n",
        "\n",
        "def readFileFromUrlSplit ( url, filename, override = True ) :\n",
        "  return readFileFromUrl(url, filename, override).splitlines()\n",
        "\n",
        "# Load Hindi Stopwords\n",
        "fileUrl = 'https://github.com/vCillusion/Social-Defender/blob/master/Data/Stop%20Words/stop_hindi.txt?raw=true'\n",
        "fileName = 'stop_hindi.txt'\n",
        "stop_hindi = readFileFromUrlSplit (fileUrl, fileName)\n",
        "# print(stop_hindi)\n",
        "\n",
        "# Load Hinglish Stopwords\n",
        "fileUrl = 'https://github.com/vCillusion/Social-Defender/blob/master/Data/Stop%20Words/stop_hinglish.txt?raw=true'\n",
        "fileName = 'stop_hinglish.txt'\n",
        "stop_hinglish = readFileFromUrlSplit (fileUrl, fileName)\n",
        "# print(stop_hinglish)\n",
        "\n",
        "# Load Shorthands Stopwords\n",
        "fileUrl = 'https://github.com/vCillusion/Social-Defender/blob/master/Data/Stop%20Words/stop_shorthands.txt?raw=true'\n",
        "fileName = 'stop_shorthands.txt'\n",
        "stop_shorthands = readFileFromUrlSplit (fileUrl, fileName)\n",
        "# print(stop_shorthands)"
      ],
      "execution_count": 2,
      "outputs": [
        {
          "output_type": "stream",
          "text": [
            "--2019-05-04 09:15:29--  https://github.com/vCillusion/Social-Defender/blob/master/Data/Stop%20Words/stop_hindi.txt?raw=true\n",
            "Resolving github.com (github.com)... 192.30.253.113\n",
            "Connecting to github.com (github.com)|192.30.253.113|:443... connected.\n",
            "HTTP request sent, awaiting response... 302 Found\n",
            "Location: https://github.com/vCillusion/Social-Defender/raw/master/Data/Stop%20Words/stop_hindi.txt [following]\n",
            "--2019-05-04 09:15:29--  https://github.com/vCillusion/Social-Defender/raw/master/Data/Stop%20Words/stop_hindi.txt\n",
            "Reusing existing connection to github.com:443.\n",
            "HTTP request sent, awaiting response... 302 Found\n",
            "Location: https://raw.githubusercontent.com/vCillusion/Social-Defender/master/Data/Stop%20Words/stop_hindi.txt [following]\n",
            "--2019-05-04 09:15:30--  https://raw.githubusercontent.com/vCillusion/Social-Defender/master/Data/Stop%20Words/stop_hindi.txt\n",
            "Resolving raw.githubusercontent.com (raw.githubusercontent.com)... 151.101.0.133, 151.101.64.133, 151.101.128.133, ...\n",
            "Connecting to raw.githubusercontent.com (raw.githubusercontent.com)|151.101.0.133|:443... connected.\n",
            "HTTP request sent, awaiting response... 200 OK\n",
            "Length: 1704 (1.7K) [text/plain]\n",
            "Saving to: ‘stop_hindi.txt?raw=true’\n",
            "\n",
            "\rstop_hindi.txt?raw=   0%[                    ]       0  --.-KB/s               \rstop_hindi.txt?raw= 100%[===================>]   1.66K  --.-KB/s    in 0s      \n",
            "\n",
            "2019-05-04 09:15:30 (142 MB/s) - ‘stop_hindi.txt?raw=true’ saved [1704/1704]\n",
            "\n",
            "--2019-05-04 09:15:35--  https://github.com/vCillusion/Social-Defender/blob/master/Data/Stop%20Words/stop_hinglish.txt?raw=true\n",
            "Resolving github.com (github.com)... 192.30.253.113\n",
            "Connecting to github.com (github.com)|192.30.253.113|:443... connected.\n",
            "HTTP request sent, awaiting response... 302 Found\n",
            "Location: https://github.com/vCillusion/Social-Defender/raw/master/Data/Stop%20Words/stop_hinglish.txt [following]\n",
            "--2019-05-04 09:15:35--  https://github.com/vCillusion/Social-Defender/raw/master/Data/Stop%20Words/stop_hinglish.txt\n",
            "Reusing existing connection to github.com:443.\n",
            "HTTP request sent, awaiting response... 302 Found\n",
            "Location: https://raw.githubusercontent.com/vCillusion/Social-Defender/master/Data/Stop%20Words/stop_hinglish.txt [following]\n",
            "--2019-05-04 09:15:35--  https://raw.githubusercontent.com/vCillusion/Social-Defender/master/Data/Stop%20Words/stop_hinglish.txt\n",
            "Resolving raw.githubusercontent.com (raw.githubusercontent.com)... 151.101.0.133, 151.101.64.133, 151.101.128.133, ...\n",
            "Connecting to raw.githubusercontent.com (raw.githubusercontent.com)|151.101.0.133|:443... connected.\n",
            "HTTP request sent, awaiting response... 200 OK\n",
            "Length: 5958 (5.8K) [text/plain]\n",
            "Saving to: ‘stop_hinglish.txt?raw=true’\n",
            "\n",
            "stop_hinglish.txt?r 100%[===================>]   5.82K  --.-KB/s    in 0s      \n",
            "\n",
            "2019-05-04 09:15:35 (73.0 MB/s) - ‘stop_hinglish.txt?raw=true’ saved [5958/5958]\n",
            "\n",
            "--2019-05-04 09:15:40--  https://github.com/vCillusion/Social-Defender/blob/master/Data/Stop%20Words/stop_shorthands.txt?raw=true\n",
            "Resolving github.com (github.com)... 192.30.253.113\n",
            "Connecting to github.com (github.com)|192.30.253.113|:443... connected.\n",
            "HTTP request sent, awaiting response... 302 Found\n",
            "Location: https://github.com/vCillusion/Social-Defender/raw/master/Data/Stop%20Words/stop_shorthands.txt [following]\n",
            "--2019-05-04 09:15:40--  https://github.com/vCillusion/Social-Defender/raw/master/Data/Stop%20Words/stop_shorthands.txt\n",
            "Reusing existing connection to github.com:443.\n",
            "HTTP request sent, awaiting response... 302 Found\n",
            "Location: https://raw.githubusercontent.com/vCillusion/Social-Defender/master/Data/Stop%20Words/stop_shorthands.txt [following]\n",
            "--2019-05-04 09:15:40--  https://raw.githubusercontent.com/vCillusion/Social-Defender/master/Data/Stop%20Words/stop_shorthands.txt\n",
            "Resolving raw.githubusercontent.com (raw.githubusercontent.com)... 151.101.0.133, 151.101.64.133, 151.101.128.133, ...\n",
            "Connecting to raw.githubusercontent.com (raw.githubusercontent.com)|151.101.0.133|:443... connected.\n",
            "HTTP request sent, awaiting response... 200 OK\n",
            "Length: 1608 (1.6K) [text/plain]\n",
            "Saving to: ‘stop_shorthands.txt?raw=true’\n",
            "\n",
            "stop_shorthands.txt 100%[===================>]   1.57K  --.-KB/s    in 0s      \n",
            "\n",
            "2019-05-04 09:15:40 (167 MB/s) - ‘stop_shorthands.txt?raw=true’ saved [1608/1608]\n",
            "\n"
          ],
          "name": "stdout"
        }
      ]
    },
    {
      "cell_type": "markdown",
      "metadata": {
        "id": "-XKDLZI8CU-K",
        "colab_type": "text"
      },
      "source": [
        "#### Using the stop words"
      ]
    },
    {
      "cell_type": "code",
      "metadata": {
        "id": "nQsQpNx2CXIW",
        "colab_type": "code",
        "outputId": "a2b8d6f6-3bd1-4ea9-97de-f5ff3e4e3d85",
        "colab": {
          "base_uri": "https://localhost:8080/",
          "height": 340
        }
      },
      "source": [
        "short_data = df.head()\n",
        "stop = []\n",
        "stop.extend(stop_hindi)\n",
        "stop.extend(stop_english)\n",
        "stop.extend(stop_hinglish)\n",
        "stop.extend(stop_shorthands)\n",
        "print('Remove Stop words')\n",
        "short_data['Comments Text_Stop'] = short_data['Comments Text'].apply(\n",
        "    lambda comment: ' '.join([word for word in comment.split() \n",
        "                              if word not in \n",
        "                              (stop)]))\n",
        "print(short_data['Comments Text'])\n",
        "print(short_data['Comments Text_Stop'])\n"
      ],
      "execution_count": 0,
      "outputs": [
        {
          "output_type": "stream",
          "text": [
            "Remove Stop words\n",
            "0                                             🦋🦋🦋❤️\n",
            "1    Pdhane do didi ! 😫 Semester exam chl rhe hai !\n",
            "2                                 @dishapatani 🔥🔥🔥👈\n",
            "3             @dishapatani u are always fabulous ❤️\n",
            "4             @dishapatani mbd radisson blu delhi..\n",
            "Name: Comments Text, dtype: object\n",
            "0                                    🦋🦋🦋❤️\n",
            "1      Pdhane didi ! 😫 Semester exam chl !\n",
            "2                        @dishapatani 🔥🔥🔥👈\n",
            "3                 @dishapatani fabulous ❤️\n",
            "4    @dishapatani mbd radisson blu delhi..\n",
            "Name: Comments Text_Stop, dtype: object\n"
          ],
          "name": "stdout"
        },
        {
          "output_type": "stream",
          "text": [
            "/usr/local/lib/python3.6/dist-packages/ipykernel_launcher.py:9: SettingWithCopyWarning: \n",
            "A value is trying to be set on a copy of a slice from a DataFrame.\n",
            "Try using .loc[row_indexer,col_indexer] = value instead\n",
            "\n",
            "See the caveats in the documentation: http://pandas.pydata.org/pandas-docs/stable/indexing.html#indexing-view-versus-copy\n",
            "  if __name__ == '__main__':\n"
          ],
          "name": "stderr"
        }
      ]
    },
    {
      "cell_type": "markdown",
      "metadata": {
        "id": "8_bh8QaltgV8",
        "colab_type": "text"
      },
      "source": [
        "#### Using the slang translator\n",
        "The plan is to make the text more readable by expanding the abbreviations by using similar logic mentioned in the [blog post](https://medium.com/nerd-stuff/python-script-to-turn-text-message-abbreviations-into-actual-phrases-d5db6f489222)."
      ]
    },
    {
      "cell_type": "code",
      "metadata": {
        "id": "N4NoH8RbC7u1",
        "colab_type": "code",
        "colab": {
          "base_uri": "https://localhost:8080/",
          "height": 877
        },
        "outputId": "1ea62b94-26a2-4534-c537-ee64a5e6c331"
      },
      "source": [
        "!pip install pipenv\n",
        "!pipenv install requests\n",
        "from requests.structures import CaseInsensitiveDict\n",
        "import re\n",
        "\n",
        "def initMap(fileUrl, fileName, delimiter, override):\n",
        "  exists = os.path.isfile(fileName)\n",
        "  inputFile = getFileFromUrl (fileUrl, fileName, override)\n",
        "  resultMap = CaseInsensitiveDict({})\n",
        "  for line in inputFile:\n",
        "    (key, val) = line.split(\"=\")\n",
        "    resultMap[key] = val\n",
        "    # print(resultMap)\n",
        "    return resultMap\n",
        "\n",
        "def translator(input):\n",
        "  # Load File path which consists of Abbreviations\n",
        "  fileUrl = 'https://github.com/vCillusion/Social-Defender/blob/master/Data/Abbreviations/slang.txt?raw=true'\n",
        "  fileName = 'slang.txt'\n",
        "  delimiter = '='\n",
        "  abbreviations_slang = initMap(fileUrl, fileName, delimiter, True)\n",
        "\n",
        "  # Loop over words and replace slangs\n",
        "  words = input.split(' ')\n",
        "  for index, word in enumerate(words, start=1):\n",
        "    # Removing Special Characters.\n",
        "    wordRe = re.sub('[^a-zA-Z0-9-_.]', '', word)\n",
        "    if abbreviations_slang.has_key(wordRe):\n",
        "      words[index] = abbreviations_slang[wordRe]\n",
        "  \n",
        "  # Create output\n",
        "  output = ' '.join(word)\n",
        "  print(output)\n",
        "  return output\n",
        "  \n",
        "translator('brb pal')"
      ],
      "execution_count": 11,
      "outputs": [
        {
          "output_type": "stream",
          "text": [
            "Requirement already satisfied: pipenv in /usr/local/lib/python3.6/dist-packages (2018.11.26)\n",
            "Requirement already satisfied: virtualenv-clone>=0.2.5 in /usr/local/lib/python3.6/dist-packages (from pipenv) (0.5.3)\n",
            "Requirement already satisfied: certifi in /usr/local/lib/python3.6/dist-packages (from pipenv) (2019.3.9)\n",
            "Requirement already satisfied: virtualenv in /usr/local/lib/python3.6/dist-packages (from pipenv) (16.5.0)\n",
            "Requirement already satisfied: pip>=9.0.1 in /usr/local/lib/python3.6/dist-packages (from pipenv) (19.1)\n",
            "Requirement already satisfied: setuptools>=36.2.1 in /usr/local/lib/python3.6/dist-packages (from pipenv) (41.0.1)\n",
            "\u001b[39m\u001b[1mInstalling \u001b[32m\u001b[1mrequests\u001b[39m\u001b[22m…\u001b[39m\u001b[22m\n",
            "\u001b[K\u001b[39m\u001b[1mAdding\u001b[39m\u001b[22m \u001b[32m\u001b[1mrequests\u001b[39m\u001b[22m \u001b[39m\u001b[1mto Pipfile's\u001b[39m\u001b[22m \u001b[31m\u001b[1m[packages]\u001b[39m\u001b[22m\u001b[39m\u001b[1m…\u001b[39m\u001b[22m\n",
            "\u001b[K\u001b[?25h✔ Installation Succeeded\u001b[0m \n",
            "\u001b[39m\u001b[1mInstalling dependencies from Pipfile.lock (b14837)…\u001b[39m\u001b[22m\n",
            "  🐍   \u001b[32m\u001b[1m▉\u001b[39m\u001b[22m\u001b[32m\u001b[1m▉\u001b[39m\u001b[22m\u001b[32m\u001b[1m▉\u001b[39m\u001b[22m\u001b[32m\u001b[1m▉\u001b[39m\u001b[22m\u001b[32m\u001b[1m▉\u001b[39m\u001b[22m\u001b[32m\u001b[1m▉\u001b[39m\u001b[22m\u001b[32m\u001b[1m▉\u001b[39m\u001b[22m\u001b[32m\u001b[1m▉\u001b[39m\u001b[22m\u001b[32m\u001b[1m▉\u001b[39m\u001b[22m\u001b[32m\u001b[1m▉\u001b[39m\u001b[22m\u001b[32m\u001b[1m▉\u001b[39m\u001b[22m\u001b[32m\u001b[1m▉\u001b[39m\u001b[22m\u001b[32m\u001b[1m▉\u001b[39m\u001b[22m\u001b[32m\u001b[1m▉\u001b[39m\u001b[22m\u001b[32m\u001b[1m▉\u001b[39m\u001b[22m\u001b[32m\u001b[1m▉\u001b[39m\u001b[22m\u001b[32m\u001b[1m▉\u001b[39m\u001b[22m\u001b[32m\u001b[1m▉\u001b[39m\u001b[22m\u001b[32m\u001b[1m▉\u001b[39m\u001b[22m\u001b[32m\u001b[1m▉\u001b[39m\u001b[22m\u001b[32m\u001b[1m▉\u001b[39m\u001b[22m\u001b[32m\u001b[1m▉\u001b[39m\u001b[22m\u001b[32m\u001b[1m▉\u001b[39m\u001b[22m\u001b[32m\u001b[1m▉\u001b[39m\u001b[22m\u001b[32m\u001b[1m▉\u001b[39m\u001b[22m\u001b[32m\u001b[1m▉\u001b[39m\u001b[22m\u001b[32m\u001b[1m▉\u001b[39m\u001b[22m\u001b[32m\u001b[1m▉\u001b[39m\u001b[22m\u001b[32m\u001b[1m▉\u001b[39m\u001b[22m\u001b[32m\u001b[1m▉\u001b[39m\u001b[22m\u001b[32m\u001b[1m▉\u001b[39m\u001b[22m\u001b[32m\u001b[1m▉\u001b[39m\u001b[22m 5/5 — \u001b[30m\u001b[22m00:00:02\u001b[39m\u001b[22m\n",
            "To activate this project's virtualenv, run \u001b[31m\u001b[22mpipenv shell\u001b[39m\u001b[22m.\n",
            "Alternatively, run a command inside the virtualenv with \u001b[31m\u001b[22mpipenv run\u001b[39m\u001b[22m.\n",
            "\u001b[0m--2019-05-04 09:59:00--  https://github.com/vCillusion/Social-Defender/blob/master/Data/Abbreviations/slang.txt?raw=true\n",
            "Resolving github.com (github.com)... 192.30.253.113\n",
            "Connecting to github.com (github.com)|192.30.253.113|:443... connected.\n",
            "HTTP request sent, awaiting response... 302 Found\n",
            "Location: https://github.com/vCillusion/Social-Defender/raw/master/Data/Abbreviations/slang.txt [following]\n",
            "--2019-05-04 09:59:01--  https://github.com/vCillusion/Social-Defender/raw/master/Data/Abbreviations/slang.txt\n",
            "Reusing existing connection to github.com:443.\n",
            "HTTP request sent, awaiting response... 302 Found\n",
            "Location: https://raw.githubusercontent.com/vCillusion/Social-Defender/master/Data/Abbreviations/slang.txt [following]\n",
            "--2019-05-04 09:59:01--  https://raw.githubusercontent.com/vCillusion/Social-Defender/master/Data/Abbreviations/slang.txt\n",
            "Resolving raw.githubusercontent.com (raw.githubusercontent.com)... 151.101.0.133, 151.101.64.133, 151.101.128.133, ...\n",
            "Connecting to raw.githubusercontent.com (raw.githubusercontent.com)|151.101.0.133|:443... connected.\n",
            "HTTP request sent, awaiting response... 200 OK\n",
            "Length: 3302 (3.2K) [text/plain]\n",
            "Saving to: ‘slang.txt?raw=true’\n",
            "\n",
            "slang.txt?raw=true  100%[===================>]   3.22K  --.-KB/s    in 0s      \n",
            "\n",
            "2019-05-04 09:59:01 (49.2 MB/s) - ‘slang.txt?raw=true’ saved [3302/3302]\n",
            "\n"
          ],
          "name": "stdout"
        },
        {
          "output_type": "error",
          "ename": "AttributeError",
          "evalue": "ignored",
          "traceback": [
            "\u001b[0;31m---------------------------------------------------------------------------\u001b[0m",
            "\u001b[0;31mAttributeError\u001b[0m                            Traceback (most recent call last)",
            "\u001b[0;32m<ipython-input-11-03d4a8028cc9>\u001b[0m in \u001b[0;36m<module>\u001b[0;34m()\u001b[0m\n\u001b[1;32m     34\u001b[0m   \u001b[0;32mreturn\u001b[0m \u001b[0moutput\u001b[0m\u001b[0;34m\u001b[0m\u001b[0;34m\u001b[0m\u001b[0m\n\u001b[1;32m     35\u001b[0m \u001b[0;34m\u001b[0m\u001b[0m\n\u001b[0;32m---> 36\u001b[0;31m \u001b[0mtranslator\u001b[0m\u001b[0;34m(\u001b[0m\u001b[0;34m'brb pal'\u001b[0m\u001b[0;34m)\u001b[0m\u001b[0;34m\u001b[0m\u001b[0;34m\u001b[0m\u001b[0m\n\u001b[0m",
            "\u001b[0;32m<ipython-input-11-03d4a8028cc9>\u001b[0m in \u001b[0;36mtranslator\u001b[0;34m(input)\u001b[0m\n\u001b[1;32m     26\u001b[0m     \u001b[0;31m# Removing Special Characters.\u001b[0m\u001b[0;34m\u001b[0m\u001b[0;34m\u001b[0m\u001b[0;34m\u001b[0m\u001b[0m\n\u001b[1;32m     27\u001b[0m     \u001b[0mwordRe\u001b[0m \u001b[0;34m=\u001b[0m \u001b[0mre\u001b[0m\u001b[0;34m.\u001b[0m\u001b[0msub\u001b[0m\u001b[0;34m(\u001b[0m\u001b[0;34m'[^a-zA-Z0-9-_.]'\u001b[0m\u001b[0;34m,\u001b[0m \u001b[0;34m''\u001b[0m\u001b[0;34m,\u001b[0m \u001b[0mword\u001b[0m\u001b[0;34m)\u001b[0m\u001b[0;34m\u001b[0m\u001b[0;34m\u001b[0m\u001b[0m\n\u001b[0;32m---> 28\u001b[0;31m     \u001b[0;32mif\u001b[0m \u001b[0mabbreviations_slang\u001b[0m\u001b[0;34m.\u001b[0m\u001b[0mhas_key\u001b[0m\u001b[0;34m(\u001b[0m\u001b[0mwordRe\u001b[0m\u001b[0;34m)\u001b[0m\u001b[0;34m:\u001b[0m\u001b[0;34m\u001b[0m\u001b[0;34m\u001b[0m\u001b[0m\n\u001b[0m\u001b[1;32m     29\u001b[0m       \u001b[0mwords\u001b[0m\u001b[0;34m[\u001b[0m\u001b[0mindex\u001b[0m\u001b[0;34m]\u001b[0m \u001b[0;34m=\u001b[0m \u001b[0mabbreviations_slang\u001b[0m\u001b[0;34m[\u001b[0m\u001b[0mwordRe\u001b[0m\u001b[0;34m]\u001b[0m\u001b[0;34m\u001b[0m\u001b[0;34m\u001b[0m\u001b[0m\n\u001b[1;32m     30\u001b[0m \u001b[0;34m\u001b[0m\u001b[0m\n",
            "\u001b[0;31mAttributeError\u001b[0m: 'CaseInsensitiveDict' object has no attribute 'has_key'"
          ]
        }
      ]
    },
    {
      "cell_type": "code",
      "metadata": {
        "id": "2m5igm5KNAI5",
        "colab_type": "code",
        "colab": {}
      },
      "source": [
        ""
      ],
      "execution_count": 0,
      "outputs": []
    }
  ]
}